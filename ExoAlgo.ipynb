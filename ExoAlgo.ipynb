{
 "cells": [
  {
   "cell_type": "markdown",
   "metadata": {},
   "source": [
    "## Partie 1"
   ]
  },
  {
   "cell_type": "markdown",
   "metadata": {},
   "source": [
    "### Exercice 1 \n",
    "\n",
    "\n",
    "\n",
    "\n",
    "\n",
    "\n",
    "\n",
    "\n",
    "\n"
   ]
  },
  {
   "cell_type": "code",
   "execution_count": 17,
   "metadata": {},
   "outputs": [
    {
     "name": "stdout",
     "output_type": "stream",
     "text": [
      "a =  6 b = 5 c = 5\n"
     ]
    }
   ],
   "source": [
    "\n",
    "\n",
    "a = 5\n",
    "b = 6 \n",
    "c = a\n",
    "a = b \n",
    "b = c \n",
    "print(\"a = \", a, \"b =\", b, \"c =\", c)"
   ]
  },
  {
   "cell_type": "markdown",
   "metadata": {},
   "source": [
    "### Exercice 2"
   ]
  },
  {
   "cell_type": "code",
   "execution_count": null,
   "metadata": {},
   "outputs": [],
   "source": [
    "nbInput = input(\"Saisir un nombre\")\n",
    "nbInput = int(nbInput)\n",
    "carre = nbInput * nbInput \n",
    "print(\"le carre de {} est {}\".format(nbInput, carre))"
   ]
  },
  {
   "cell_type": "code",
   "execution_count": null,
   "metadata": {},
   "outputs": [],
   "source": [
    "nbInput = input(\"saisir un nombre \")\n",
    "nbInput = int(nbInput)\n",
    "if nbInput < 0 : \n",
    "    print(\"nombre saisie negatif\")\n",
    "else: \n",
    "    print(\"nombre saisi positif\")"
   ]
  },
  {
   "cell_type": "code",
   "execution_count": null,
   "metadata": {},
   "outputs": [],
   "source": [
    "nbInputPremier = input(\"saisir un nombre \")\n",
    "nbInputPremier = int(nbInputPremier)\n",
    "nbInputDeux = input(\"saisir un autre nombre \")\n",
    "nbInputDeux = int(nbInputDeux)\n",
    "if (nbInputDeux + nbInputPremier) > 0:\n",
    "    print(\"somme des 2 postifs\")\n",
    "else:\n",
    "    print(\"somme des 2 negatif\")\n",
    "\n",
    "\n"
   ]
  },
  {
   "cell_type": "code",
   "execution_count": null,
   "metadata": {},
   "outputs": [],
   "source": [
    "nbInput = input(\"saisir un nombre \")\n",
    "nbInput = int(nbInput)\n",
    "for i in range(0,10,1) :\n",
    "    nbInput += 1 \n",
    "    print(nbInput)"
   ]
  },
  {
   "cell_type": "code",
   "execution_count": null,
   "metadata": {},
   "outputs": [],
   "source": [
    "\n",
    "nbInput = input(\"saisir un nombre \")\n",
    "nbInput = int(nbInput)\n",
    "for i in range(0,10,1) :\n",
    "    nbInput += 1 \n",
    "    print(nbInput)"
   ]
  },
  {
   "cell_type": "code",
   "execution_count": null,
   "metadata": {},
   "outputs": [],
   "source": [
    "nbInput = input(\"saisir un nombre \")\n",
    "nbInput = int(nbInput)\n",
    "for i in range(0,10,1) :\n",
    "    nbInput = nbInput+ (nbInput+1) \n",
    "    print(nbInput)"
   ]
  },
  {
   "cell_type": "markdown",
   "metadata": {},
   "source": [
    "## Partie 2"
   ]
  },
  {
   "cell_type": "markdown",
   "metadata": {},
   "source": [
    "### Exercice 1"
   ]
  },
  {
   "cell_type": "code",
   "execution_count": 20,
   "metadata": {},
   "outputs": [
    {
     "name": "stdout",
     "output_type": "stream",
     "text": [
      "1\n",
      "3\n",
      "6\n",
      "10\n",
      "15\n"
     ]
    }
   ],
   "source": [
    "listInt = [1, 2, 3, 4, 5]\n",
    "somme = 0\n",
    "for indice, integer in enumerate(listInt):\n",
    "    somme += integer\n",
    "    print(somme)"
   ]
  },
  {
   "cell_type": "markdown",
   "metadata": {},
   "source": [
    "### Exercice 2"
   ]
  },
  {
   "cell_type": "code",
   "execution_count": 21,
   "metadata": {},
   "outputs": [
    {
     "name": "stdout",
     "output_type": "stream",
     "text": [
      "10\n",
      "10\n",
      "10\n",
      "10\n",
      "10\n"
     ]
    }
   ],
   "source": [
    "listInt = [1, 2, 3, 4, 5]\n",
    "listInt2 = [9, 8, 7, 6, 5]\n",
    "somme = 0\n",
    "for indice, integer in enumerate(listInt):\n",
    "    somme = integer + listInt2[indice]\n",
    "    print(somme)\n",
    "    "
   ]
  },
  {
   "cell_type": "markdown",
   "metadata": {},
   "source": [
    "### Exercice 3"
   ]
  },
  {
   "cell_type": "code",
   "execution_count": 24,
   "metadata": {
    "scrolled": true
   },
   "outputs": [
    {
     "name": "stdout",
     "output_type": "stream",
     "text": [
      "[9, 16, 21, 24, 25]\n",
      "9\n",
      "25\n",
      "46\n",
      "70\n",
      "95\n"
     ]
    }
   ],
   "source": [
    "listInt = [1, 2, 3, 4, 5]\n",
    "listInt2 = [9, 8, 7, 6, 5]\n",
    "somme = 0\n",
    "for indice, integer in enumerate(listInt):\n",
    "    listInt[indice] = listInt[indice] * listInt2[indice]\n",
    "print(listInt)\n",
    "for indice, integer in enumerate(listInt):\n",
    "    somme += integer \n",
    "    print(somme)\n",
    "    "
   ]
  },
  {
   "cell_type": "markdown",
   "metadata": {},
   "source": [
    "### Exercice 4\n"
   ]
  },
  {
   "cell_type": "code",
   "execution_count": 29,
   "metadata": {},
   "outputs": [
    {
     "name": "stdout",
     "output_type": "stream",
     "text": [
      "veuillez saisir un nombre10\n",
      "veuillez saisir un nombre1\n",
      "veuillez saisir un nombre2\n",
      "veuillez saisir un nombre3\n",
      "10 0\n"
     ]
    }
   ],
   "source": [
    "listNombre = list()\n",
    "nbNombre = 4\n",
    "i= 0 \n",
    "while i < nbNombre:\n",
    "    nbSaisie = input(\"veuillez saisir un nombre\")\n",
    "    nbSaisie =  int(nbSaisie)\n",
    "    listNombre.append(nbSaisie)\n",
    "    i = i+1\n",
    "    \n",
    "maxi = 0\n",
    "indiceMax = 0 \n",
    "for indice, element in enumerate(listNombre):\n",
    "    if maxi < element: \n",
    "        maxi = element\n",
    "        indiceMax = indice\n",
    "print(maxi, indiceMax)\n",
    "    \n"
   ]
  },
  {
   "cell_type": "code",
   "execution_count": null,
   "metadata": {},
   "outputs": [],
   "source": []
  }
 ],
 "metadata": {
  "kernelspec": {
   "display_name": "Python 3",
   "language": "python",
   "name": "python3"
  },
  "language_info": {
   "codemirror_mode": {
    "name": "ipython",
    "version": 3
   },
   "file_extension": ".py",
   "mimetype": "text/x-python",
   "name": "python",
   "nbconvert_exporter": "python",
   "pygments_lexer": "ipython3",
   "version": "3.8.5"
  }
 },
 "nbformat": 4,
 "nbformat_minor": 4
}
