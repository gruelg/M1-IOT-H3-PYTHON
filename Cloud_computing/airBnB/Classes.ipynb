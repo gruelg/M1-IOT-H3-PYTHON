{
 "cells": [
  {
   "cell_type": "markdown",
   "metadata": {},
   "source": [
    "## Model"
   ]
  },
  {
   "cell_type": "code",
   "execution_count": null,
   "metadata": {},
   "outputs": [],
   "source": [
    "python model.py --model=linearRegression --split=0.1"
   ]
  },
  {
   "cell_type": "markdown",
   "metadata": {},
   "source": [
    "### arguments "
   ]
  },
  {
   "cell_type": "code",
   "execution_count": null,
   "metadata": {},
   "outputs": [],
   "source": [
    "import argparse\n",
    "parser = argparse.ArgumentParser()\n",
    "parser.add_argument(\"-m\", \"--model\", help=\"choix du model\",\n",
    "                    action=\"store_true\")\n",
    "parser.add_argument(\"-s\", \"--split\", help=\"choix du model\",\n",
    "                    type=float)\n",
    "args = parser.parse_args()\n",
    "args.model\n",
    "args.split"
   ]
  },
  {
   "cell_type": "markdown",
   "metadata": {},
   "source": [
    "# Classes"
   ]
  },
  {
   "cell_type": "markdown",
   "metadata": {},
   "source": [
    "## DataHandler "
   ]
  },
  {
   "cell_type": "code",
   "execution_count": 2,
   "metadata": {
    "pycharm": {
     "name": "#%%\n"
    }
   },
   "outputs": [],
   "source": [
    "import pandas as pd \n",
    "\n",
    "class DataHandler:\n",
    "    \"\"\"\n",
    "        recuperer les data du GCP bucket\n",
    "    \"\"\"\n",
    "    def __inti__(self):\n",
    "        self.df_listings_final = None\n",
    "        self.df_price_availability = None\n",
    "        self.df_merged = None\n",
    "\n",
    "    def get_data(self):\n",
    "        \"\"\"\n",
    "            charge les datasets des csv\n",
    "        \"\"\"\n",
    "        self.df_listings_final = pd.read_csv('listings_final.csv', delimiter=\";\",index_col = 0)\n",
    "        self.df_price_availability = pd.read_csv('price_availability.csv', delimiter=';')\n",
    "        #self.df_listings_final = pd.read_csv('https://storage.googleapis.com/h3-data/listings_final.csv', delimiter=\";\",index_col = 0)\n",
    "        #self.df_price_availability = pd.read_csv('phttps://storage.googleapis.com/h3-data/price_availability.csv', delimiter=';')\n",
    "        print(\"Datasets chargés \")\n",
    "        \n",
    "    def group_data(self):\n",
    "        \"\"\"\n",
    "            merge les 2 dataset sur la colonne listing_id\n",
    "        \"\"\"\n",
    "        resultMeans = self.df_price_availability.groupby('listing_id').mean()\n",
    "        resultMeans['listing_id'] = self.df_price_availability['listing_id'].unique()\n",
    "        self.df_merged = pd.merge(self.df_listings_final, resultMeans[['available','local_price','min_nights']],on='listing_id')\n",
    "        print(\"dataset merged\")\n",
    "        \n",
    "    def get_process_data(self):\n",
    "        \"\"\"\n",
    "            get_data() + group_data()\n",
    "        \"\"\"\n",
    "        self.get_data()\n",
    "        self.group_data()\n",
    "        \n",
    "        \n"
   ]
  },
  {
   "cell_type": "markdown",
   "metadata": {},
   "source": [
    "### tests de la classe"
   ]
  },
  {
   "cell_type": "code",
   "execution_count": 3,
   "metadata": {
    "pycharm": {
     "name": "#%%\n"
    }
   },
   "outputs": [],
   "source": [
    "data = DataHandler()"
   ]
  },
  {
   "cell_type": "code",
   "execution_count": 4,
   "metadata": {
    "pycharm": {
     "name": "#%%\n"
    }
   },
   "outputs": [
    {
     "name": "stdout",
     "output_type": "stream",
     "text": [
      "Datasets chargés \n",
      "dataset merged\n",
      "Wall time: 0 ns\n"
     ]
    }
   ],
   "source": [
    "data.get_process_data()\n",
    "%time "
   ]
  },
  {
   "cell_type": "markdown",
   "metadata": {},
   "source": [
    "## FeatureRecipe"
   ]
  },
  {
   "cell_type": "code",
   "execution_count": 18,
   "metadata": {},
   "outputs": [],
   "source": [
    "import pandas as pd\n",
    "import numpy as np\n",
    "class FeatureRecipe:\n",
    "    \n",
    "    def __init__(self, data):\n",
    "        self.df = data\n",
    "        self.categories = []\n",
    "        self.floats = []\n",
    "        self.int = []\n",
    "        self.drop = []\n",
    "    \n",
    "    def dropNaNPourcentage(self, seuil):\n",
    "        \"\"\"\n",
    "            drop la colonne suivant un seuil %( param)\n",
    "        \"\"\"\n",
    "        dimension = self.df.shape\n",
    "        for colonne in self.df:\n",
    "            nbNaN = self.df[colonne].isna().sum()\n",
    "            pourcentage = (nbNaN / dimension[0]) * 100\n",
    "            if pourcentage > seuil :\n",
    "                del self.df[colonne]\n",
    "                print('{} supprimée'.format(colonne))\n",
    "\n",
    "    \n",
    "    def dropUselessFeature(self):\n",
    "        to_drop = ['is_rebookable','is_new_listing','is_fully_refundable','is_business_travel_ready']\n",
    "        self.df.drop(columns=to_drop, inplace=True)\n",
    "        for colonne in self.df:\n",
    "            if self.df[colonne].nunique() <=1:\n",
    "                print('{} supprimée'.format(colonne))\n",
    "                del self.df[colonne]\n",
    "    \n",
    "    def dropDuplicates(self):\n",
    "        \"\"\"\n",
    "            drop des duplicates de colonnes \n",
    "        \"\"\"\n",
    "        i=0\n",
    "        for colonnes in self.df: \n",
    "            i+=1\n",
    "            y=0\n",
    "            for colonnesDuplicate in self.df: \n",
    "                y+=1\n",
    "                if i!=y and (self.df[colonnes].equals(self.df[colonnesDuplicate])) == True:\n",
    "                    del self.df[colonnesDuplicate]\n",
    "                    print('colonne {} supprimée'.format(colonnesDuplicate))\n",
    "    \n",
    "    \n",
    "    def separeteVariableTypes(self):\n",
    "        print(\"separating columns\")\n",
    "        for colonne in self.df.columns:\n",
    "            if self.df[colonne].dtypes == int:\n",
    "                self.int.append(self.df[colonne])\n",
    "            elif self.df[colonne].dtypes == float:\n",
    "                self.floats.append(self.df[colonne])\n",
    "            else:\n",
    "                self.categories.append(self.df[colonne])\n",
    "        print (\"nombre de colonnes : {} \\n \\\n",
    "            number of discreet values : {} \\n \\\n",
    "            number of continuous values : {} \\n \\\n",
    "            number of others : {} \\n  \\\n",
    "            taille total : {}\".format(len(self.df.columns),len(self.int), \\\n",
    "            len(self.floats),len(self.categories),len(self.int)+len(self.floats)+len(self.categories) ))\n",
    "    \n",
    "    def prepareData(self, seuil):\n",
    "        self.dropUselessFeature()\n",
    "        self.dropDuplicates()\n",
    "        self.dropNaNPourcentage(seuil)\n",
    "        self.separeteVariableTypes()"
   ]
  },
  {
   "cell_type": "markdown",
   "metadata": {},
   "source": [
    "### tests de la classe"
   ]
  },
  {
   "cell_type": "code",
   "execution_count": 19,
   "metadata": {},
   "outputs": [
    {
     "name": "stdout",
     "output_type": "stream",
     "text": [
      "0 1\n"
     ]
    },
    {
     "ename": "ValueError",
     "evalue": "Can only compare identically-labeled DataFrame objects",
     "output_type": "error",
     "traceback": [
      "\u001b[1;31m---------------------------------------------------------------------------\u001b[0m",
      "\u001b[1;31mValueError\u001b[0m                                Traceback (most recent call last)",
      "\u001b[1;32m<ipython-input-19-d7bcdedf4c9b>\u001b[0m in \u001b[0;36m<module>\u001b[1;34m\u001b[0m\n\u001b[0;32m      1\u001b[0m \u001b[0mfeature\u001b[0m \u001b[1;33m=\u001b[0m \u001b[0mFeatureRecipe\u001b[0m\u001b[1;33m(\u001b[0m\u001b[0mdata\u001b[0m\u001b[1;33m.\u001b[0m\u001b[0mdf_merged\u001b[0m\u001b[1;33m)\u001b[0m\u001b[1;33m\u001b[0m\u001b[1;33m\u001b[0m\u001b[0m\n\u001b[1;32m----> 2\u001b[1;33m \u001b[0mfeature\u001b[0m\u001b[1;33m.\u001b[0m\u001b[0mget_duplicates\u001b[0m\u001b[1;33m(\u001b[0m\u001b[1;33m)\u001b[0m\u001b[1;33m\u001b[0m\u001b[1;33m\u001b[0m\u001b[0m\n\u001b[0m\u001b[0;32m      3\u001b[0m \u001b[0mget_ipython\u001b[0m\u001b[1;33m(\u001b[0m\u001b[1;33m)\u001b[0m\u001b[1;33m.\u001b[0m\u001b[0mrun_line_magic\u001b[0m\u001b[1;33m(\u001b[0m\u001b[1;34m'time'\u001b[0m\u001b[1;33m,\u001b[0m \u001b[1;34m''\u001b[0m\u001b[1;33m)\u001b[0m\u001b[1;33m\u001b[0m\u001b[1;33m\u001b[0m\u001b[0m\n",
      "\u001b[1;32m<ipython-input-18-555af93d3fdf>\u001b[0m in \u001b[0;36mget_duplicates\u001b[1;34m(self)\u001b[0m\n\u001b[0;32m     50\u001b[0m             \u001b[1;32mfor\u001b[0m \u001b[0mscol\u001b[0m \u001b[1;32min\u001b[0m \u001b[0mrange\u001b[0m\u001b[1;33m(\u001b[0m\u001b[0mcol\u001b[0m\u001b[1;33m+\u001b[0m\u001b[1;36m1\u001b[0m\u001b[1;33m,\u001b[0m\u001b[0mself\u001b[0m\u001b[1;33m.\u001b[0m\u001b[0mdf\u001b[0m\u001b[1;33m.\u001b[0m\u001b[0mshape\u001b[0m\u001b[1;33m[\u001b[0m\u001b[1;36m1\u001b[0m\u001b[1;33m]\u001b[0m\u001b[1;33m-\u001b[0m\u001b[1;36m1\u001b[0m\u001b[1;33m)\u001b[0m\u001b[1;33m:\u001b[0m\u001b[1;33m\u001b[0m\u001b[1;33m\u001b[0m\u001b[0m\n\u001b[0;32m     51\u001b[0m                 \u001b[0mprint\u001b[0m\u001b[1;33m(\u001b[0m\u001b[1;34m\"{} {}\"\u001b[0m\u001b[1;33m.\u001b[0m\u001b[0mformat\u001b[0m\u001b[1;33m(\u001b[0m\u001b[0mcol\u001b[0m\u001b[1;33m,\u001b[0m\u001b[0mscol\u001b[0m\u001b[1;33m)\u001b[0m\u001b[1;33m)\u001b[0m\u001b[1;33m\u001b[0m\u001b[1;33m\u001b[0m\u001b[0m\n\u001b[1;32m---> 52\u001b[1;33m                 \u001b[1;32mif\u001b[0m \u001b[0msum\u001b[0m\u001b[1;33m(\u001b[0m \u001b[0mnp\u001b[0m\u001b[1;33m.\u001b[0m\u001b[0mwhere\u001b[0m\u001b[1;33m(\u001b[0m\u001b[0mself\u001b[0m\u001b[1;33m.\u001b[0m\u001b[0mdf\u001b[0m\u001b[1;33m.\u001b[0m\u001b[0miloc\u001b[0m\u001b[1;33m[\u001b[0m\u001b[1;33m:\u001b[0m\u001b[1;33m,\u001b[0m\u001b[1;33m[\u001b[0m\u001b[0mcol\u001b[0m\u001b[1;33m]\u001b[0m\u001b[1;33m]\u001b[0m \u001b[1;33m==\u001b[0m \u001b[0mself\u001b[0m\u001b[1;33m.\u001b[0m\u001b[0mdf\u001b[0m\u001b[1;33m.\u001b[0m\u001b[0miloc\u001b[0m\u001b[1;33m[\u001b[0m\u001b[1;33m:\u001b[0m\u001b[1;33m,\u001b[0m\u001b[1;33m[\u001b[0m\u001b[0mscol\u001b[0m\u001b[1;33m]\u001b[0m\u001b[1;33m]\u001b[0m\u001b[1;33m,\u001b[0m\u001b[1;36m0\u001b[0m\u001b[1;33m,\u001b[0m\u001b[1;36m1\u001b[0m\u001b[1;33m)\u001b[0m \u001b[1;33m)\u001b[0m \u001b[1;33m==\u001b[0m \u001b[1;36m0\u001b[0m\u001b[1;33m:\u001b[0m\u001b[1;33m\u001b[0m\u001b[1;33m\u001b[0m\u001b[0m\n\u001b[0m\u001b[0;32m     53\u001b[0m                     \u001b[0mduplicates\u001b[0m\u001b[1;33m.\u001b[0m\u001b[0mappend\u001b[0m\u001b[1;33m(\u001b[0m\u001b[0mscol\u001b[0m\u001b[1;33m)\u001b[0m\u001b[1;33m\u001b[0m\u001b[1;33m\u001b[0m\u001b[0m\n\u001b[0;32m     54\u001b[0m         \u001b[1;32mreturn\u001b[0m \u001b[0mduplicates\u001b[0m\u001b[1;33m\u001b[0m\u001b[1;33m\u001b[0m\u001b[0m\n",
      "\u001b[1;32mc:\\users\\gruel\\appdata\\local\\programs\\python\\python38-32\\lib\\site-packages\\pandas\\core\\ops\\__init__.py\u001b[0m in \u001b[0;36mf\u001b[1;34m(self, other)\u001b[0m\n\u001b[0;32m    699\u001b[0m         \u001b[0maxis\u001b[0m \u001b[1;33m=\u001b[0m \u001b[1;36m1\u001b[0m  \u001b[1;31m# only relevant for Series other case\u001b[0m\u001b[1;33m\u001b[0m\u001b[1;33m\u001b[0m\u001b[0m\n\u001b[0;32m    700\u001b[0m \u001b[1;33m\u001b[0m\u001b[0m\n\u001b[1;32m--> 701\u001b[1;33m         \u001b[0mself\u001b[0m\u001b[1;33m,\u001b[0m \u001b[0mother\u001b[0m \u001b[1;33m=\u001b[0m \u001b[0m_align_method_FRAME\u001b[0m\u001b[1;33m(\u001b[0m\u001b[0mself\u001b[0m\u001b[1;33m,\u001b[0m \u001b[0mother\u001b[0m\u001b[1;33m,\u001b[0m \u001b[0maxis\u001b[0m\u001b[1;33m,\u001b[0m \u001b[0mlevel\u001b[0m\u001b[1;33m=\u001b[0m\u001b[1;32mNone\u001b[0m\u001b[1;33m,\u001b[0m \u001b[0mflex\u001b[0m\u001b[1;33m=\u001b[0m\u001b[1;32mFalse\u001b[0m\u001b[1;33m)\u001b[0m\u001b[1;33m\u001b[0m\u001b[1;33m\u001b[0m\u001b[0m\n\u001b[0m\u001b[0;32m    702\u001b[0m \u001b[1;33m\u001b[0m\u001b[0m\n\u001b[0;32m    703\u001b[0m         \u001b[1;31m# See GH#4537 for discussion of scalar op behavior\u001b[0m\u001b[1;33m\u001b[0m\u001b[1;33m\u001b[0m\u001b[1;33m\u001b[0m\u001b[0m\n",
      "\u001b[1;32mc:\\users\\gruel\\appdata\\local\\programs\\python\\python38-32\\lib\\site-packages\\pandas\\core\\ops\\__init__.py\u001b[0m in \u001b[0;36m_align_method_FRAME\u001b[1;34m(left, right, axis, flex, level)\u001b[0m\n\u001b[0;32m    508\u001b[0m                 \u001b[0mleft\u001b[0m\u001b[1;33m,\u001b[0m \u001b[0mright\u001b[0m \u001b[1;33m=\u001b[0m \u001b[0mleft\u001b[0m\u001b[1;33m.\u001b[0m\u001b[0malign\u001b[0m\u001b[1;33m(\u001b[0m\u001b[0mright\u001b[0m\u001b[1;33m,\u001b[0m \u001b[0mjoin\u001b[0m\u001b[1;33m=\u001b[0m\u001b[1;34m\"outer\"\u001b[0m\u001b[1;33m,\u001b[0m \u001b[0mlevel\u001b[0m\u001b[1;33m=\u001b[0m\u001b[0mlevel\u001b[0m\u001b[1;33m,\u001b[0m \u001b[0mcopy\u001b[0m\u001b[1;33m=\u001b[0m\u001b[1;32mFalse\u001b[0m\u001b[1;33m)\u001b[0m\u001b[1;33m\u001b[0m\u001b[1;33m\u001b[0m\u001b[0m\n\u001b[0;32m    509\u001b[0m             \u001b[1;32melse\u001b[0m\u001b[1;33m:\u001b[0m\u001b[1;33m\u001b[0m\u001b[1;33m\u001b[0m\u001b[0m\n\u001b[1;32m--> 510\u001b[1;33m                 raise ValueError(\n\u001b[0m\u001b[0;32m    511\u001b[0m                     \u001b[1;34m\"Can only compare identically-labeled DataFrame objects\"\u001b[0m\u001b[1;33m\u001b[0m\u001b[1;33m\u001b[0m\u001b[0m\n\u001b[0;32m    512\u001b[0m                 )\n",
      "\u001b[1;31mValueError\u001b[0m: Can only compare identically-labeled DataFrame objects"
     ]
    }
   ],
   "source": [
    "feature = FeatureRecipe(data.df_merged)\n",
    "feature.get_duplicates()\n",
    "%time "
   ]
  },
  {
   "cell_type": "markdown",
   "metadata": {},
   "source": [
    "## FeaturesExtractor"
   ]
  },
  {
   "cell_type": "code",
   "execution_count": null,
   "metadata": {},
   "outputs": [],
   "source": [
    "import sklearn as skn\n",
    "import matplotlib as plt\n",
    "from sklearn.model_selection import train_test_split\n",
    "\n",
    "class FeaturesExtractor:\n",
    "    \"\"\"\n",
    "    Feature Extractor class\n",
    "    \"\"\"\n",
    "    def __init__(self, data: pd.DataFrame, flist: list):\n",
    "        \"\"\"\n",
    "            Input : pandas.DataFrame, feature list to drop\n",
    "            Output : X_train, X_test, y_train, y_test according to sklearn.model_selection.train_test_split\n",
    "        \"\"\"\n",
    "        self.x_train, self.x_test, self.y_train, self.y_test = None,None,None,None\n",
    "        self.df = data\n",
    "        self.flist = flist\n",
    "    \n",
    "    def extract(self):\n",
    "        print(\"extraction ...\")\n",
    "        self.data.drop(columns=self.flist, inplace=True)\n",
    "        print(\"extraction terminée\")\n",
    "        \n",
    "    def split(self, test_size, rng, target):\n",
    "        print(\"debut split\")\n",
    "        self.x_train, self.x_test, self.y_train, self.y_test\\\n",
    "        = train_test_split(self.df.loc[:,self.data])"
   ]
  },
  {
   "cell_type": "markdown",
   "metadata": {},
   "source": [
    "## Model Builder"
   ]
  },
  {
   "cell_type": "code",
   "execution_count": null,
   "metadata": {},
   "outputs": [],
   "source": [
    "class ModelBuilder:\n",
    "    \"\"\"\n",
    "        Class for train and print results of ml model \n",
    "    \"\"\"    \n",
    "    def __init__(self, model_path: str = None, save: bool = None):\n",
    "        pass    \n",
    "\n",
    "    def __repr__(self):\n",
    "        pass    \n",
    "    def predict(self, X) -> np.ndarray:\n",
    "        pass    \n",
    "    def save_model(self, path:str):\n",
    "        #with the format : 'model_{}_{}'.format(date)\n",
    "        pass    \n",
    "    def load_model(self):\n",
    "        try:\n",
    "            #load model\n",
    "            pass\n",
    "        except:\n",
    "            pass"
   ]
  },
  {
   "cell_type": "markdown",
   "metadata": {},
   "source": [
    "## creation fonctions "
   ]
  },
  {
   "cell_type": "code",
   "execution_count": 29,
   "metadata": {},
   "outputs": [],
   "source": [
    "import pandas as pd \n",
    "df_listings_final = pd.read_csv('listings_final.csv', delimiter=\";\",index_col = 0)\n",
    "df_price_availability = pd.read_csv('price_availability.csv', delimiter=';')\n",
    "resultMeans = df_price_availability.groupby('listing_id').mean()\n",
    "resultMeans['listing_id'] = df_price_availability['listing_id'].unique()\n",
    "               "
   ]
  },
  {
   "cell_type": "code",
   "execution_count": 81,
   "metadata": {},
   "outputs": [
    {
     "data": {
      "text/html": [
       "<div>\n",
       "<style scoped>\n",
       "    .dataframe tbody tr th:only-of-type {\n",
       "        vertical-align: middle;\n",
       "    }\n",
       "\n",
       "    .dataframe tbody tr th {\n",
       "        vertical-align: top;\n",
       "    }\n",
       "\n",
       "    .dataframe thead th {\n",
       "        text-align: right;\n",
       "    }\n",
       "</style>\n",
       "<table border=\"1\" class=\"dataframe\">\n",
       "  <thead>\n",
       "    <tr style=\"text-align: right;\">\n",
       "      <th></th>\n",
       "      <th>name</th>\n",
       "      <th>type</th>\n",
       "      <th>city</th>\n",
       "      <th>neighborhood</th>\n",
       "      <th>latitude</th>\n",
       "      <th>longitude</th>\n",
       "      <th>person_capacity</th>\n",
       "      <th>beds</th>\n",
       "      <th>bedrooms</th>\n",
       "      <th>bathrooms</th>\n",
       "      <th>is_rebookable</th>\n",
       "      <th>is_new_listing</th>\n",
       "      <th>is_fully_refundable</th>\n",
       "      <th>is_host_highly_rated</th>\n",
       "      <th>is_business_travel_ready</th>\n",
       "      <th>pricing_weekly_factor</th>\n",
       "      <th>pricing_monthly_factor</th>\n",
       "      <th>available</th>\n",
       "      <th>local_price</th>\n",
       "      <th>min_nights</th>\n",
       "    </tr>\n",
       "  </thead>\n",
       "  <tbody>\n",
       "    <tr>\n",
       "      <th>0</th>\n",
       "      <td>La maison Clery</td>\n",
       "      <td>private_room</td>\n",
       "      <td>Paris</td>\n",
       "      <td>2e arrondissement</td>\n",
       "      <td>48.869292</td>\n",
       "      <td>2.348335</td>\n",
       "      <td>1</td>\n",
       "      <td>1</td>\n",
       "      <td>1</td>\n",
       "      <td>2.0</td>\n",
       "      <td>False</td>\n",
       "      <td>True</td>\n",
       "      <td>True</td>\n",
       "      <td>False</td>\n",
       "      <td>False</td>\n",
       "      <td>1.00</td>\n",
       "      <td>1.00</td>\n",
       "      <td>0.234536</td>\n",
       "      <td>45.948454</td>\n",
       "      <td>1.0</td>\n",
       "    </tr>\n",
       "    <tr>\n",
       "      <th>1</th>\n",
       "      <td>studio PARIS PLACE EDITH PIAF 75020</td>\n",
       "      <td>entire_home</td>\n",
       "      <td>Paris</td>\n",
       "      <td>NaN</td>\n",
       "      <td>48.867284</td>\n",
       "      <td>2.403255</td>\n",
       "      <td>2</td>\n",
       "      <td>1</td>\n",
       "      <td>1</td>\n",
       "      <td>1.0</td>\n",
       "      <td>False</td>\n",
       "      <td>False</td>\n",
       "      <td>True</td>\n",
       "      <td>True</td>\n",
       "      <td>False</td>\n",
       "      <td>0.88</td>\n",
       "      <td>0.69</td>\n",
       "      <td>0.030075</td>\n",
       "      <td>44.473684</td>\n",
       "      <td>2.0</td>\n",
       "    </tr>\n",
       "    <tr>\n",
       "      <th>2</th>\n",
       "      <td>chambre privée à louer @ paris oberkampf</td>\n",
       "      <td>private_room</td>\n",
       "      <td>Paris</td>\n",
       "      <td>NaN</td>\n",
       "      <td>48.867894</td>\n",
       "      <td>2.375897</td>\n",
       "      <td>1</td>\n",
       "      <td>1</td>\n",
       "      <td>1</td>\n",
       "      <td>1.0</td>\n",
       "      <td>False</td>\n",
       "      <td>False</td>\n",
       "      <td>True</td>\n",
       "      <td>True</td>\n",
       "      <td>False</td>\n",
       "      <td>1.00</td>\n",
       "      <td>1.00</td>\n",
       "      <td>0.744624</td>\n",
       "      <td>49.000000</td>\n",
       "      <td>3.0</td>\n",
       "    </tr>\n",
       "    <tr>\n",
       "      <th>3</th>\n",
       "      <td>Appartement au coeur du Marais</td>\n",
       "      <td>entire_home</td>\n",
       "      <td>Paris</td>\n",
       "      <td>République</td>\n",
       "      <td>48.870370</td>\n",
       "      <td>2.358510</td>\n",
       "      <td>3</td>\n",
       "      <td>2</td>\n",
       "      <td>2</td>\n",
       "      <td>1.0</td>\n",
       "      <td>False</td>\n",
       "      <td>False</td>\n",
       "      <td>True</td>\n",
       "      <td>False</td>\n",
       "      <td>False</td>\n",
       "      <td>0.82</td>\n",
       "      <td>0.48</td>\n",
       "      <td>0.953125</td>\n",
       "      <td>165.000000</td>\n",
       "      <td>2.0</td>\n",
       "    </tr>\n",
       "    <tr>\n",
       "      <th>4</th>\n",
       "      <td>Lovely &amp; Quiet flat</td>\n",
       "      <td>entire_home</td>\n",
       "      <td>Paris</td>\n",
       "      <td>Buttes-Chaumont - Belleville</td>\n",
       "      <td>48.874149</td>\n",
       "      <td>2.373700</td>\n",
       "      <td>2</td>\n",
       "      <td>1</td>\n",
       "      <td>1</td>\n",
       "      <td>1.0</td>\n",
       "      <td>False</td>\n",
       "      <td>False</td>\n",
       "      <td>True</td>\n",
       "      <td>True</td>\n",
       "      <td>False</td>\n",
       "      <td>0.95</td>\n",
       "      <td>0.90</td>\n",
       "      <td>0.451128</td>\n",
       "      <td>69.774436</td>\n",
       "      <td>3.0</td>\n",
       "    </tr>\n",
       "  </tbody>\n",
       "</table>\n",
       "</div>"
      ],
      "text/plain": [
       "                                       name          type   city  \\\n",
       "0                           La maison Clery  private_room  Paris   \n",
       "1       studio PARIS PLACE EDITH PIAF 75020   entire_home  Paris   \n",
       "2  chambre privée à louer @ paris oberkampf  private_room  Paris   \n",
       "3            Appartement au coeur du Marais   entire_home  Paris   \n",
       "4                       Lovely & Quiet flat   entire_home  Paris   \n",
       "\n",
       "                   neighborhood   latitude  longitude  person_capacity  beds  \\\n",
       "0             2e arrondissement  48.869292   2.348335                1     1   \n",
       "1                           NaN  48.867284   2.403255                2     1   \n",
       "2                           NaN  48.867894   2.375897                1     1   \n",
       "3                    République  48.870370   2.358510                3     2   \n",
       "4  Buttes-Chaumont - Belleville  48.874149   2.373700                2     1   \n",
       "\n",
       "   bedrooms  bathrooms  is_rebookable  is_new_listing  is_fully_refundable  \\\n",
       "0         1        2.0          False            True                 True   \n",
       "1         1        1.0          False           False                 True   \n",
       "2         1        1.0          False           False                 True   \n",
       "3         2        1.0          False           False                 True   \n",
       "4         1        1.0          False           False                 True   \n",
       "\n",
       "   is_host_highly_rated  is_business_travel_ready  pricing_weekly_factor  \\\n",
       "0                 False                     False                   1.00   \n",
       "1                  True                     False                   0.88   \n",
       "2                  True                     False                   1.00   \n",
       "3                 False                     False                   0.82   \n",
       "4                  True                     False                   0.95   \n",
       "\n",
       "   pricing_monthly_factor  available  local_price  min_nights  \n",
       "0                    1.00   0.234536    45.948454         1.0  \n",
       "1                    0.69   0.030075    44.473684         2.0  \n",
       "2                    1.00   0.744624    49.000000         3.0  \n",
       "3                    0.48   0.953125   165.000000         2.0  \n",
       "4                    0.90   0.451128    69.774436         3.0  "
      ]
     },
     "execution_count": 81,
     "metadata": {},
     "output_type": "execute_result"
    }
   ],
   "source": [
    "df_merged.head(5)"
   ]
  },
  {
   "cell_type": "code",
   "execution_count": null,
   "metadata": {},
   "outputs": [],
   "source": []
  }
 ],
 "metadata": {
  "kernelspec": {
   "display_name": "Python 3",
   "language": "python",
   "name": "python3"
  },
  "language_info": {
   "codemirror_mode": {
    "name": "ipython",
    "version": 3
   },
   "file_extension": ".py",
   "mimetype": "text/x-python",
   "name": "python",
   "nbconvert_exporter": "python",
   "pygments_lexer": "ipython3",
   "version": "3.8.5"
  }
 },
 "nbformat": 4,
 "nbformat_minor": 4
}
