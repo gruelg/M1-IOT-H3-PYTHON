{
 "cells": [
  {
   "cell_type": "markdown",
   "metadata": {},
   "source": [
    "# Classes"
   ]
  },
  {
   "cell_type": "markdown",
   "metadata": {},
   "source": [
    "## DataHandler "
   ]
  },
  {
   "cell_type": "code",
   "execution_count": 69,
   "metadata": {
    "pycharm": {
     "name": "#%%\n"
    }
   },
   "outputs": [],
   "source": [
    "import pandas as pd \n",
    "\n",
    "class DataHandler:\n",
    "    \"\"\"\n",
    "        recuperer les data du GCP bucket\n",
    "    \"\"\"\n",
    "    def __inti__(self):\n",
    "        self.df_listings_final = None\n",
    "        self.df_price_availability = None\n",
    "        self.df_merged = None\n",
    "\n",
    "    def get_data(self):\n",
    "        \"\"\"\n",
    "            charge les datasets des csv\n",
    "        \"\"\"\n",
    "        self.df_listings_final = pd.read_csv('listings_final.csv', delimiter=\";\",index_col = 0)\n",
    "        self.df_price_availability = pd.read_csv('price_availability.csv', delimiter=';')\n",
    "        #self.df_listings_final = pd.read_csv('https://storage.googleapis.com/h3-data/listings_final.csv', delimiter=\";\",index_col = 0)\n",
    "        #self.df_price_availability = pd.read_csv('phttps://storage.googleapis.com/h3-data/price_availability.csv', delimiter=';')\n",
    "        print(\"Datasets chargés \")\n",
    "        \n",
    "    def group_data(self):\n",
    "        \"\"\"\n",
    "            merge les 2 dataset sur la colonne listing_id\n",
    "        \"\"\"\n",
    "        resultMeans = self.df_price_availability.groupby('listing_id').mean()\n",
    "        resultMeans['listing_id'] = self.df_price_availability['listing_id'].unique()\n",
    "        self.df_merged = pd.merge(self.df_listings_final, resultMeans[['available','local_price','min_nights']],on='listing_id')\n",
    "        print(\"dataset merged\")\n",
    "        \n",
    "    def get_process_data(self):\n",
    "        \"\"\"\n",
    "            get_data() + group_data()\n",
    "        \"\"\"\n",
    "        self.get_data()\n",
    "        self.group_data()\n",
    "        \n",
    "        \n"
   ]
  },
  {
   "cell_type": "markdown",
   "metadata": {},
   "source": [
    "### tests de la classe"
   ]
  },
  {
   "cell_type": "code",
   "execution_count": 70,
   "metadata": {
    "pycharm": {
     "name": "#%%\n"
    }
   },
   "outputs": [],
   "source": [
    "data = DataHandler()"
   ]
  },
  {
   "cell_type": "code",
   "execution_count": 71,
   "metadata": {
    "pycharm": {
     "name": "#%%\n"
    }
   },
   "outputs": [
    {
     "name": "stdout",
     "output_type": "stream",
     "text": [
      "Datasets chargés \n",
      "dataset merged\n",
      "Wall time: 0 ns\n"
     ]
    }
   ],
   "source": [
    "data.get_process_data()\n",
    "%time "
   ]
  },
  {
   "cell_type": "markdown",
   "metadata": {},
   "source": [
    "## FeatureRecipe"
   ]
  },
  {
   "cell_type": "code",
   "execution_count": 79,
   "metadata": {},
   "outputs": [],
   "source": [
    "import pandas as pd\n",
    "\n",
    "class FeatureRecipe:\n",
    "    \n",
    "    def __init__(self, data):\n",
    "        self.df = data\n",
    "    \n",
    "    def dropNaNPourcentage(self, seuil):\n",
    "        \"\"\"\n",
    "            drop la colonne suivant un seuil %( param)\n",
    "        \"\"\"\n",
    "        dimension = self.df.shape\n",
    "        for colonne in self.df:\n",
    "            nbNaN = self.df[colonne].isna().sum()\n",
    "            pourcentage = (nbNaN / dimension[0]) * 100\n",
    "            if pourcentage > seuil :\n",
    "                del self.df[colonne]\n",
    "                print('{} supprimée'.format(colonne))\n",
    "\n",
    "    \n",
    "    def dropUselessFeature(self):\n",
    "        to_drop = ['is_rebookable','is_new_listing','is_fully_refundable','is_business_travel_ready']\n",
    "        self.df.drop(columns=to_drop, inplace=True)\n",
    "        for colonne in self.df:\n",
    "            if self.df[colonne].nunique() <=1:\n",
    "                print('{} supprimée'.format(colonne))\n",
    "                del self.df[colonne]\n",
    "    \n",
    "    def dropDuplicates(self):\n",
    "        \"\"\"\n",
    "            drop des duplicates de colonnes \n",
    "        \"\"\"\n",
    "        i=0\n",
    "        for colonnes in self.df: \n",
    "            i+=1\n",
    "            y=0\n",
    "            for colonnesDuplicate in self.df: \n",
    "                y+=1\n",
    "                if i!=y and (self.df[colonnes].equals(self.df[colonnesDuplicate])) == True:\n",
    "                    del self.df[colonnesDuplicate]\n",
    "                    print('colonne {} supprimée'.format(colonnesDuplicate))\n",
    "    \n",
    "    def separeteVariableTypes(self):\n",
    "        pass\n",
    "    \n",
    "    def deal_datetime(self):\n",
    "        pass\n",
    "    \n",
    "    def extractDecisionData(self):\n",
    "        pass\n",
    "    \n",
    "    def prepareData(self, seuil):\n",
    "        self.dropUselessFeature()\n",
    "        self.dropDuplicates()\n",
    "        self.dropNaNPourcentage(seuil)\n",
    "        self.extractDecisionData()"
   ]
  },
  {
   "cell_type": "markdown",
   "metadata": {},
   "source": [
    "### tests de la classe"
   ]
  },
  {
   "cell_type": "code",
   "execution_count": 80,
   "metadata": {},
   "outputs": [
    {
     "name": "stdout",
     "output_type": "stream",
     "text": [
      "Wall time: 0 ns\n"
     ]
    }
   ],
   "source": [
    "feature = FeatureRecipe(data.df_merged)\n",
    "feature.prepareData(60)\n",
    "%time "
   ]
  },
  {
   "cell_type": "markdown",
   "metadata": {},
   "source": [
    "## creation fonctions "
   ]
  },
  {
   "cell_type": "code",
   "execution_count": 29,
   "metadata": {},
   "outputs": [],
   "source": [
    "import pandas as pd \n",
    "df_listings_final = pd.read_csv('listings_final.csv', delimiter=\";\",index_col = 0)\n",
    "df_price_availability = pd.read_csv('price_availability.csv', delimiter=';')\n",
    "resultMeans = df_price_availability.groupby('listing_id').mean()\n",
    "resultMeans['listing_id'] = df_price_availability['listing_id'].unique()\n",
    "               "
   ]
  },
  {
   "cell_type": "code",
   "execution_count": 81,
   "metadata": {},
   "outputs": [
    {
     "data": {
      "text/html": [
       "<div>\n",
       "<style scoped>\n",
       "    .dataframe tbody tr th:only-of-type {\n",
       "        vertical-align: middle;\n",
       "    }\n",
       "\n",
       "    .dataframe tbody tr th {\n",
       "        vertical-align: top;\n",
       "    }\n",
       "\n",
       "    .dataframe thead th {\n",
       "        text-align: right;\n",
       "    }\n",
       "</style>\n",
       "<table border=\"1\" class=\"dataframe\">\n",
       "  <thead>\n",
       "    <tr style=\"text-align: right;\">\n",
       "      <th></th>\n",
       "      <th>name</th>\n",
       "      <th>type</th>\n",
       "      <th>city</th>\n",
       "      <th>neighborhood</th>\n",
       "      <th>latitude</th>\n",
       "      <th>longitude</th>\n",
       "      <th>person_capacity</th>\n",
       "      <th>beds</th>\n",
       "      <th>bedrooms</th>\n",
       "      <th>bathrooms</th>\n",
       "      <th>is_rebookable</th>\n",
       "      <th>is_new_listing</th>\n",
       "      <th>is_fully_refundable</th>\n",
       "      <th>is_host_highly_rated</th>\n",
       "      <th>is_business_travel_ready</th>\n",
       "      <th>pricing_weekly_factor</th>\n",
       "      <th>pricing_monthly_factor</th>\n",
       "      <th>available</th>\n",
       "      <th>local_price</th>\n",
       "      <th>min_nights</th>\n",
       "    </tr>\n",
       "  </thead>\n",
       "  <tbody>\n",
       "    <tr>\n",
       "      <th>0</th>\n",
       "      <td>La maison Clery</td>\n",
       "      <td>private_room</td>\n",
       "      <td>Paris</td>\n",
       "      <td>2e arrondissement</td>\n",
       "      <td>48.869292</td>\n",
       "      <td>2.348335</td>\n",
       "      <td>1</td>\n",
       "      <td>1</td>\n",
       "      <td>1</td>\n",
       "      <td>2.0</td>\n",
       "      <td>False</td>\n",
       "      <td>True</td>\n",
       "      <td>True</td>\n",
       "      <td>False</td>\n",
       "      <td>False</td>\n",
       "      <td>1.00</td>\n",
       "      <td>1.00</td>\n",
       "      <td>0.234536</td>\n",
       "      <td>45.948454</td>\n",
       "      <td>1.0</td>\n",
       "    </tr>\n",
       "    <tr>\n",
       "      <th>1</th>\n",
       "      <td>studio PARIS PLACE EDITH PIAF 75020</td>\n",
       "      <td>entire_home</td>\n",
       "      <td>Paris</td>\n",
       "      <td>NaN</td>\n",
       "      <td>48.867284</td>\n",
       "      <td>2.403255</td>\n",
       "      <td>2</td>\n",
       "      <td>1</td>\n",
       "      <td>1</td>\n",
       "      <td>1.0</td>\n",
       "      <td>False</td>\n",
       "      <td>False</td>\n",
       "      <td>True</td>\n",
       "      <td>True</td>\n",
       "      <td>False</td>\n",
       "      <td>0.88</td>\n",
       "      <td>0.69</td>\n",
       "      <td>0.030075</td>\n",
       "      <td>44.473684</td>\n",
       "      <td>2.0</td>\n",
       "    </tr>\n",
       "    <tr>\n",
       "      <th>2</th>\n",
       "      <td>chambre privée à louer @ paris oberkampf</td>\n",
       "      <td>private_room</td>\n",
       "      <td>Paris</td>\n",
       "      <td>NaN</td>\n",
       "      <td>48.867894</td>\n",
       "      <td>2.375897</td>\n",
       "      <td>1</td>\n",
       "      <td>1</td>\n",
       "      <td>1</td>\n",
       "      <td>1.0</td>\n",
       "      <td>False</td>\n",
       "      <td>False</td>\n",
       "      <td>True</td>\n",
       "      <td>True</td>\n",
       "      <td>False</td>\n",
       "      <td>1.00</td>\n",
       "      <td>1.00</td>\n",
       "      <td>0.744624</td>\n",
       "      <td>49.000000</td>\n",
       "      <td>3.0</td>\n",
       "    </tr>\n",
       "    <tr>\n",
       "      <th>3</th>\n",
       "      <td>Appartement au coeur du Marais</td>\n",
       "      <td>entire_home</td>\n",
       "      <td>Paris</td>\n",
       "      <td>République</td>\n",
       "      <td>48.870370</td>\n",
       "      <td>2.358510</td>\n",
       "      <td>3</td>\n",
       "      <td>2</td>\n",
       "      <td>2</td>\n",
       "      <td>1.0</td>\n",
       "      <td>False</td>\n",
       "      <td>False</td>\n",
       "      <td>True</td>\n",
       "      <td>False</td>\n",
       "      <td>False</td>\n",
       "      <td>0.82</td>\n",
       "      <td>0.48</td>\n",
       "      <td>0.953125</td>\n",
       "      <td>165.000000</td>\n",
       "      <td>2.0</td>\n",
       "    </tr>\n",
       "    <tr>\n",
       "      <th>4</th>\n",
       "      <td>Lovely &amp; Quiet flat</td>\n",
       "      <td>entire_home</td>\n",
       "      <td>Paris</td>\n",
       "      <td>Buttes-Chaumont - Belleville</td>\n",
       "      <td>48.874149</td>\n",
       "      <td>2.373700</td>\n",
       "      <td>2</td>\n",
       "      <td>1</td>\n",
       "      <td>1</td>\n",
       "      <td>1.0</td>\n",
       "      <td>False</td>\n",
       "      <td>False</td>\n",
       "      <td>True</td>\n",
       "      <td>True</td>\n",
       "      <td>False</td>\n",
       "      <td>0.95</td>\n",
       "      <td>0.90</td>\n",
       "      <td>0.451128</td>\n",
       "      <td>69.774436</td>\n",
       "      <td>3.0</td>\n",
       "    </tr>\n",
       "  </tbody>\n",
       "</table>\n",
       "</div>"
      ],
      "text/plain": [
       "                                       name          type   city  \\\n",
       "0                           La maison Clery  private_room  Paris   \n",
       "1       studio PARIS PLACE EDITH PIAF 75020   entire_home  Paris   \n",
       "2  chambre privée à louer @ paris oberkampf  private_room  Paris   \n",
       "3            Appartement au coeur du Marais   entire_home  Paris   \n",
       "4                       Lovely & Quiet flat   entire_home  Paris   \n",
       "\n",
       "                   neighborhood   latitude  longitude  person_capacity  beds  \\\n",
       "0             2e arrondissement  48.869292   2.348335                1     1   \n",
       "1                           NaN  48.867284   2.403255                2     1   \n",
       "2                           NaN  48.867894   2.375897                1     1   \n",
       "3                    République  48.870370   2.358510                3     2   \n",
       "4  Buttes-Chaumont - Belleville  48.874149   2.373700                2     1   \n",
       "\n",
       "   bedrooms  bathrooms  is_rebookable  is_new_listing  is_fully_refundable  \\\n",
       "0         1        2.0          False            True                 True   \n",
       "1         1        1.0          False           False                 True   \n",
       "2         1        1.0          False           False                 True   \n",
       "3         2        1.0          False           False                 True   \n",
       "4         1        1.0          False           False                 True   \n",
       "\n",
       "   is_host_highly_rated  is_business_travel_ready  pricing_weekly_factor  \\\n",
       "0                 False                     False                   1.00   \n",
       "1                  True                     False                   0.88   \n",
       "2                  True                     False                   1.00   \n",
       "3                 False                     False                   0.82   \n",
       "4                  True                     False                   0.95   \n",
       "\n",
       "   pricing_monthly_factor  available  local_price  min_nights  \n",
       "0                    1.00   0.234536    45.948454         1.0  \n",
       "1                    0.69   0.030075    44.473684         2.0  \n",
       "2                    1.00   0.744624    49.000000         3.0  \n",
       "3                    0.48   0.953125   165.000000         2.0  \n",
       "4                    0.90   0.451128    69.774436         3.0  "
      ]
     },
     "execution_count": 81,
     "metadata": {},
     "output_type": "execute_result"
    }
   ],
   "source": [
    "df_merged.head(5)"
   ]
  },
  {
   "cell_type": "code",
   "execution_count": null,
   "metadata": {},
   "outputs": [],
   "source": []
  }
 ],
 "metadata": {
  "kernelspec": {
   "display_name": "Python 3",
   "language": "python",
   "name": "python3"
  },
  "language_info": {
   "codemirror_mode": {
    "name": "ipython",
    "version": 3
   },
   "file_extension": ".py",
   "mimetype": "text/x-python",
   "name": "python",
   "nbconvert_exporter": "python",
   "pygments_lexer": "ipython3",
   "version": "3.8.5"
  }
 },
 "nbformat": 4,
 "nbformat_minor": 4
}
