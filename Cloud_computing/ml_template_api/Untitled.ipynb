{
 "cells": [
  {
   "cell_type": "markdown",
   "metadata": {},
   "source": [
    "## Data Handler"
   ]
  },
  {
   "cell_type": "code",
   "execution_count": 2,
   "metadata": {},
   "outputs": [],
   "source": [
    "import pandas as pd\n",
    "\n",
    "\n",
    "class DataHandler:\n",
    "    \"\"\"\n",
    "        chargement du dataset dans une classe\n",
    "    \"\"\"\n",
    "    def __inti__(self):\n",
    "        self.df_vgsales\n",
    "\n",
    "    def get_data(self):\n",
    "        \"\"\"\n",
    "            charge les datasets des csv\n",
    "        \"\"\"\n",
    "        self.df_vgsales = pd.read_csv('vgsales.csv', delimiter=\",\", index_col=0)\n",
    "        print(\"Dataset chargés \")\n",
    "\n"
   ]
  },
  {
   "cell_type": "markdown",
   "metadata": {},
   "source": [
    "## Feature Recipe "
   ]
  },
  {
   "cell_type": "code",
   "execution_count": null,
   "metadata": {},
   "outputs": [],
   "source": [
    "import pandas as pd\n",
    "import numpy as np\n",
    "\n",
    "\n",
    "class FeatureRecipe:\n",
    "\n",
    "    def __init__(self, data):\n",
    "        self.df = data\n",
    "        self.categories = []\n",
    "        self.floats = []\n",
    "        self.int = []\n",
    "        self.drop = []\n",
    "\n",
    "    def dropNaNPourcentage(self, seuil):\n",
    "        \"\"\"\n",
    "            drop la colonne suivant un seuil %( param)\n",
    "        \"\"\"\n",
    "        for colonne in self.df:\n",
    "            nbNaN = self.df[colonne].isna().sum()\n",
    "            if (nbNaN / self.df.shape[0]) * 100 > seuil:\n",
    "                del self.df[colonne]\n",
    "                print('{} supprimée'.format(colonne))\n",
    "\n",
    "    def dropUselessFeature(self):\n",
    "        to_drop = [] # a remplir suivant les colonnes qui sont inutiles\n",
    "        self.df.drop(columns=to_drop, inplace=True)\n",
    "        for colonne in self.df:\n",
    "            if self.df[colonne].nunique() <= 1:\n",
    "                print('{} supprimée'.format(colonne))\n",
    "                del self.df[colonne]\n",
    "\n",
    "    def dropDuplicates(self):\n",
    "        \"\"\"\n",
    "            drop des duplica de colonnes\n",
    "        \"\"\"\n",
    "        i = 0\n",
    "        for colonnes in self.df:\n",
    "            i += 1\n",
    "            y = 0\n",
    "            for colonnesDuplicate in self.df:\n",
    "                y += 1\n",
    "                if i != y and (self.df[colonnes].equals(self.df[colonnesDuplicate])) == True:\n",
    "                    del self.df[colonnesDuplicate]\n",
    "                    print('colonne {} supprimée'.format(colonnesDuplicate))\n",
    "\n",
    "    def separeteVariableTypes(self):\n",
    "        print(\"separating columns\")\n",
    "        for colonne in self.df.columns:\n",
    "            if self.df[colonne].dtypes == int:\n",
    "                self.int.append(self.df[colonne])\n",
    "            elif self.df[colonne].dtypes == float:\n",
    "                self.floats.append(self.df[colonne])\n",
    "            else:\n",
    "                self.categories.append(self.df[colonne])\n",
    "        print(\"nombre de colonnes : {} \\n \\\n",
    "            number of discreet values : {} \\n \\\n",
    "            number of continuous values : {} \\n \\\n",
    "            number of others : {} \\n  \\\n",
    "            taille total : {}\".format(len(self.df.columns), len(self.int), \\\n",
    "                                      len(self.floats), len(self.categories),\n",
    "                                      len(self.int) + len(self.floats) + len(self.categories)))\n",
    "    \n",
    "    def fillNaNDate(self)\n",
    "        self.df.Year = self.df.Year.fillna(self.df.Year.mean())\n",
    "        self.df.Year = self.df.Year.astype('int32')\n",
    "\n",
    "    def prepareData(self, seuil):\n",
    "        self.fillNaNDate()\n",
    "        self.dropUselessFeature()\n",
    "        self.dropDuplicates()\n",
    "        self.dropNaNPourcentage(seuil)\n",
    "        self.separeteVariableTypes()"
   ]
  },
  {
   "cell_type": "markdown",
   "metadata": {},
   "source": [
    "## FeatureExtractor"
   ]
  },
  {
   "cell_type": "code",
   "execution_count": null,
   "metadata": {},
   "outputs": [],
   "source": [
    "import pandas as pd\n",
    "\n",
    "class FeatureExtractor:\n",
    "    \"\"\"\n",
    "    Feature Extractor class\n",
    "    \"\"\"\n",
    "    def __init__(self, data: pd.DataFrame, flist: list):\n",
    "        \"\"\"\n",
    "            Input : pandas.DataFrame, feature list to drop\n",
    "            Output : X_train, X_test, y_train, y_test according to sklearn.model_selection.train_test_split\n",
    "\n",
    "        \"\"\""
   ]
  },
  {
   "cell_type": "markdown",
   "metadata": {},
   "source": [
    "## ModelBuilder"
   ]
  },
  {
   "cell_type": "code",
   "execution_count": null,
   "metadata": {},
   "outputs": [],
   "source": [
    "import pandas as pd\n",
    "\n",
    "\n",
    "class ModelBuilder:\n",
    "    \"\"\"\n",
    "        Class for train and print results of ml model\n",
    "    \"\"\"\n",
    "    def __init__(self, model_path: str = None, save: bool = None):\n",
    "        pass\n",
    "    def __repr__(self):\n",
    "        pass\n",
    "    def train(self, X, Y):\n",
    "        pass\n",
    "    def predict_test(self, X) -> np.ndarray:\n",
    "        pass\n",
    "    def predict_from_dump(self, X) -> np.ndarray:\n",
    "        pass\n",
    "    def save_model(self, path:str):\n",
    "        #with the format : 'model_{}_{}'.format(date)\n",
    "        pass\n",
    "    def print_accuracy(self):\n",
    "        pass\n",
    "    def load_model(self):\n",
    "        try:\n",
    "            #load model\n",
    "            pass\n",
    "        except:\n",
    "            pass"
   ]
  },
  {
   "cell_type": "code",
   "execution_count": 4,
   "metadata": {},
   "outputs": [],
   "source": [
    "df = pd.read_csv('vgsales.csv', delimiter=\",\", index_col=0)"
   ]
  },
  {
   "cell_type": "code",
   "execution_count": null,
   "metadata": {},
   "outputs": [],
   "source": []
  },
  {
   "cell_type": "code",
   "execution_count": 5,
   "metadata": {},
   "outputs": [
    {
     "data": {
      "text/html": [
       "<div>\n",
       "<style scoped>\n",
       "    .dataframe tbody tr th:only-of-type {\n",
       "        vertical-align: middle;\n",
       "    }\n",
       "\n",
       "    .dataframe tbody tr th {\n",
       "        vertical-align: top;\n",
       "    }\n",
       "\n",
       "    .dataframe thead th {\n",
       "        text-align: right;\n",
       "    }\n",
       "</style>\n",
       "<table border=\"1\" class=\"dataframe\">\n",
       "  <thead>\n",
       "    <tr style=\"text-align: right;\">\n",
       "      <th></th>\n",
       "      <th>Name</th>\n",
       "      <th>Platform</th>\n",
       "      <th>Year</th>\n",
       "      <th>Genre</th>\n",
       "      <th>Publisher</th>\n",
       "      <th>NA_Sales</th>\n",
       "      <th>EU_Sales</th>\n",
       "      <th>JP_Sales</th>\n",
       "      <th>Other_Sales</th>\n",
       "      <th>Global_Sales</th>\n",
       "    </tr>\n",
       "    <tr>\n",
       "      <th>Rank</th>\n",
       "      <th></th>\n",
       "      <th></th>\n",
       "      <th></th>\n",
       "      <th></th>\n",
       "      <th></th>\n",
       "      <th></th>\n",
       "      <th></th>\n",
       "      <th></th>\n",
       "      <th></th>\n",
       "      <th></th>\n",
       "    </tr>\n",
       "  </thead>\n",
       "  <tbody>\n",
       "    <tr>\n",
       "      <th>1</th>\n",
       "      <td>Wii Sports</td>\n",
       "      <td>Wii</td>\n",
       "      <td>2006.0</td>\n",
       "      <td>Sports</td>\n",
       "      <td>Nintendo</td>\n",
       "      <td>41.49</td>\n",
       "      <td>29.02</td>\n",
       "      <td>3.77</td>\n",
       "      <td>8.46</td>\n",
       "      <td>82.74</td>\n",
       "    </tr>\n",
       "    <tr>\n",
       "      <th>2</th>\n",
       "      <td>Super Mario Bros.</td>\n",
       "      <td>NES</td>\n",
       "      <td>1985.0</td>\n",
       "      <td>Platform</td>\n",
       "      <td>Nintendo</td>\n",
       "      <td>29.08</td>\n",
       "      <td>3.58</td>\n",
       "      <td>6.81</td>\n",
       "      <td>0.77</td>\n",
       "      <td>40.24</td>\n",
       "    </tr>\n",
       "    <tr>\n",
       "      <th>3</th>\n",
       "      <td>Mario Kart Wii</td>\n",
       "      <td>Wii</td>\n",
       "      <td>2008.0</td>\n",
       "      <td>Racing</td>\n",
       "      <td>Nintendo</td>\n",
       "      <td>15.85</td>\n",
       "      <td>12.88</td>\n",
       "      <td>3.79</td>\n",
       "      <td>3.31</td>\n",
       "      <td>35.82</td>\n",
       "    </tr>\n",
       "    <tr>\n",
       "      <th>4</th>\n",
       "      <td>Wii Sports Resort</td>\n",
       "      <td>Wii</td>\n",
       "      <td>2009.0</td>\n",
       "      <td>Sports</td>\n",
       "      <td>Nintendo</td>\n",
       "      <td>15.75</td>\n",
       "      <td>11.01</td>\n",
       "      <td>3.28</td>\n",
       "      <td>2.96</td>\n",
       "      <td>33.00</td>\n",
       "    </tr>\n",
       "    <tr>\n",
       "      <th>5</th>\n",
       "      <td>Pokemon Red/Pokemon Blue</td>\n",
       "      <td>GB</td>\n",
       "      <td>1996.0</td>\n",
       "      <td>Role-Playing</td>\n",
       "      <td>Nintendo</td>\n",
       "      <td>11.27</td>\n",
       "      <td>8.89</td>\n",
       "      <td>10.22</td>\n",
       "      <td>1.00</td>\n",
       "      <td>31.37</td>\n",
       "    </tr>\n",
       "  </tbody>\n",
       "</table>\n",
       "</div>"
      ],
      "text/plain": [
       "                          Name Platform    Year         Genre Publisher  \\\n",
       "Rank                                                                      \n",
       "1                   Wii Sports      Wii  2006.0        Sports  Nintendo   \n",
       "2            Super Mario Bros.      NES  1985.0      Platform  Nintendo   \n",
       "3               Mario Kart Wii      Wii  2008.0        Racing  Nintendo   \n",
       "4            Wii Sports Resort      Wii  2009.0        Sports  Nintendo   \n",
       "5     Pokemon Red/Pokemon Blue       GB  1996.0  Role-Playing  Nintendo   \n",
       "\n",
       "      NA_Sales  EU_Sales  JP_Sales  Other_Sales  Global_Sales  \n",
       "Rank                                                           \n",
       "1        41.49     29.02      3.77         8.46         82.74  \n",
       "2        29.08      3.58      6.81         0.77         40.24  \n",
       "3        15.85     12.88      3.79         3.31         35.82  \n",
       "4        15.75     11.01      3.28         2.96         33.00  \n",
       "5        11.27      8.89     10.22         1.00         31.37  "
      ]
     },
     "execution_count": 5,
     "metadata": {},
     "output_type": "execute_result"
    }
   ],
   "source": [
    "df.head()"
   ]
  },
  {
   "cell_type": "code",
   "execution_count": 6,
   "metadata": {},
   "outputs": [
    {
     "data": {
      "text/plain": [
       "(16598, 10)"
      ]
     },
     "execution_count": 6,
     "metadata": {},
     "output_type": "execute_result"
    }
   ],
   "source": [
    "df.shape"
   ]
  },
  {
   "cell_type": "code",
   "execution_count": 5,
   "metadata": {},
   "outputs": [],
   "source": [
    "df.Year = df.Year.fillna(df.Year.mean())\n",
    "df.Year = df.Year.astype('int32')"
   ]
  },
  {
   "cell_type": "code",
   "execution_count": null,
   "metadata": {},
   "outputs": [],
   "source": []
  }
 ],
 "metadata": {
  "kernelspec": {
   "display_name": "Python 3",
   "language": "python",
   "name": "python3"
  },
  "language_info": {
   "codemirror_mode": {
    "name": "ipython",
    "version": 3
   },
   "file_extension": ".py",
   "mimetype": "text/x-python",
   "name": "python",
   "nbconvert_exporter": "python",
   "pygments_lexer": "ipython3",
   "version": "3.8.5"
  }
 },
 "nbformat": 4,
 "nbformat_minor": 4
}
