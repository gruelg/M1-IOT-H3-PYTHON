{
 "cells": [
  {
   "cell_type": "markdown",
   "metadata": {},
   "source": [
    "### Q1"
   ]
  },
  {
   "cell_type": "markdown",
   "metadata": {},
   "source": [
    "un KPI est un diagramme utilisé en entreprise afin de visualiser le comportements des données "
   ]
  },
  {
   "cell_type": "markdown",
   "metadata": {},
   "source": [
    "### Q2"
   ]
  },
  {
   "cell_type": "code",
   "execution_count": 57,
   "metadata": {},
   "outputs": [],
   "source": [
    "import pandas as pd\n",
    "import numpy as np"
   ]
  },
  {
   "cell_type": "markdown",
   "metadata": {},
   "source": [
    "### Q3"
   ]
  },
  {
   "cell_type": "code",
   "execution_count": 51,
   "metadata": {},
   "outputs": [],
   "source": [
    "chemin = \"eval_data.csv\"\n",
    "df = pd.read_csv(chemin)"
   ]
  },
  {
   "cell_type": "markdown",
   "metadata": {},
   "source": [
    "### Q4"
   ]
  },
  {
   "cell_type": "code",
   "execution_count": 56,
   "metadata": {},
   "outputs": [
    {
     "data": {
      "text/html": [
       "<div>\n",
       "<style scoped>\n",
       "    .dataframe tbody tr th:only-of-type {\n",
       "        vertical-align: middle;\n",
       "    }\n",
       "\n",
       "    .dataframe tbody tr th {\n",
       "        vertical-align: top;\n",
       "    }\n",
       "\n",
       "    .dataframe thead th {\n",
       "        text-align: right;\n",
       "    }\n",
       "</style>\n",
       "<table border=\"1\" class=\"dataframe\">\n",
       "  <thead>\n",
       "    <tr style=\"text-align: right;\">\n",
       "      <th></th>\n",
       "      <th>Unnamed: 0</th>\n",
       "      <th>order_id</th>\n",
       "      <th>quantity</th>\n",
       "      <th>item_name</th>\n",
       "      <th>choice_description</th>\n",
       "      <th>item_price</th>\n",
       "    </tr>\n",
       "  </thead>\n",
       "  <tbody>\n",
       "    <tr>\n",
       "      <th>0</th>\n",
       "      <td>0</td>\n",
       "      <td>1</td>\n",
       "      <td>1</td>\n",
       "      <td>Chips and Fresh Tomato Salsa</td>\n",
       "      <td>NaN</td>\n",
       "      <td>NaN</td>\n",
       "    </tr>\n",
       "    <tr>\n",
       "      <th>1</th>\n",
       "      <td>1</td>\n",
       "      <td>1</td>\n",
       "      <td>1</td>\n",
       "      <td>Izze</td>\n",
       "      <td>[Clementine]</td>\n",
       "      <td>$3.39</td>\n",
       "    </tr>\n",
       "    <tr>\n",
       "      <th>2</th>\n",
       "      <td>2</td>\n",
       "      <td>1</td>\n",
       "      <td>1</td>\n",
       "      <td>Nantucket Nectar</td>\n",
       "      <td>[Apple]</td>\n",
       "      <td>$3.39</td>\n",
       "    </tr>\n",
       "    <tr>\n",
       "      <th>3</th>\n",
       "      <td>3</td>\n",
       "      <td>1</td>\n",
       "      <td>1</td>\n",
       "      <td>Chips and Tomatillo-Green Chili Salsa</td>\n",
       "      <td>NaN</td>\n",
       "      <td>NaN</td>\n",
       "    </tr>\n",
       "    <tr>\n",
       "      <th>4</th>\n",
       "      <td>4</td>\n",
       "      <td>2</td>\n",
       "      <td>2</td>\n",
       "      <td>Chicken Bowl</td>\n",
       "      <td>[Tomatillo-Red Chili Salsa (Hot), [Black Beans...</td>\n",
       "      <td>$16.98</td>\n",
       "    </tr>\n",
       "    <tr>\n",
       "      <th>5</th>\n",
       "      <td>5</td>\n",
       "      <td>3</td>\n",
       "      <td>1</td>\n",
       "      <td>Chicken Bowl</td>\n",
       "      <td>[Fresh Tomato Salsa (Mild), [Rice, Cheese, Sou...</td>\n",
       "      <td>$10.98</td>\n",
       "    </tr>\n",
       "    <tr>\n",
       "      <th>6</th>\n",
       "      <td>6</td>\n",
       "      <td>3</td>\n",
       "      <td>1</td>\n",
       "      <td>Side of Chips</td>\n",
       "      <td>NaN</td>\n",
       "      <td>$1.69</td>\n",
       "    </tr>\n",
       "    <tr>\n",
       "      <th>7</th>\n",
       "      <td>7</td>\n",
       "      <td>4</td>\n",
       "      <td>1</td>\n",
       "      <td>Steak Burrito</td>\n",
       "      <td>[Tomatillo Red Chili Salsa, [Fajita Vegetables...</td>\n",
       "      <td>$11.75</td>\n",
       "    </tr>\n",
       "    <tr>\n",
       "      <th>8</th>\n",
       "      <td>8</td>\n",
       "      <td>4</td>\n",
       "      <td>1</td>\n",
       "      <td>Steak Soft Tacos</td>\n",
       "      <td>[Tomatillo Green Chili Salsa, [Pinto Beans, Ch...</td>\n",
       "      <td>$9.25</td>\n",
       "    </tr>\n",
       "    <tr>\n",
       "      <th>9</th>\n",
       "      <td>9</td>\n",
       "      <td>5</td>\n",
       "      <td>1</td>\n",
       "      <td>Steak Burrito</td>\n",
       "      <td>[Fresh Tomato Salsa, [Rice, Black Beans, Pinto...</td>\n",
       "      <td>$9.25</td>\n",
       "    </tr>\n",
       "  </tbody>\n",
       "</table>\n",
       "</div>"
      ],
      "text/plain": [
       "   Unnamed: 0  order_id  quantity                              item_name  \\\n",
       "0           0         1         1           Chips and Fresh Tomato Salsa   \n",
       "1           1         1         1                                   Izze   \n",
       "2           2         1         1                       Nantucket Nectar   \n",
       "3           3         1         1  Chips and Tomatillo-Green Chili Salsa   \n",
       "4           4         2         2                           Chicken Bowl   \n",
       "5           5         3         1                           Chicken Bowl   \n",
       "6           6         3         1                          Side of Chips   \n",
       "7           7         4         1                          Steak Burrito   \n",
       "8           8         4         1                       Steak Soft Tacos   \n",
       "9           9         5         1                          Steak Burrito   \n",
       "\n",
       "                                  choice_description item_price  \n",
       "0                                                NaN        NaN  \n",
       "1                                       [Clementine]     $3.39   \n",
       "2                                            [Apple]     $3.39   \n",
       "3                                                NaN        NaN  \n",
       "4  [Tomatillo-Red Chili Salsa (Hot), [Black Beans...    $16.98   \n",
       "5  [Fresh Tomato Salsa (Mild), [Rice, Cheese, Sou...    $10.98   \n",
       "6                                                NaN     $1.69   \n",
       "7  [Tomatillo Red Chili Salsa, [Fajita Vegetables...    $11.75   \n",
       "8  [Tomatillo Green Chili Salsa, [Pinto Beans, Ch...     $9.25   \n",
       "9  [Fresh Tomato Salsa, [Rice, Black Beans, Pinto...     $9.25   "
      ]
     },
     "execution_count": 56,
     "metadata": {},
     "output_type": "execute_result"
    }
   ],
   "source": [
    "df.head(10)"
   ]
  },
  {
   "cell_type": "markdown",
   "metadata": {},
   "source": [
    "### Q5"
   ]
  },
  {
   "cell_type": "code",
   "execution_count": 4,
   "metadata": {},
   "outputs": [
    {
     "data": {
      "text/plain": [
       "(4622, 6)"
      ]
     },
     "execution_count": 4,
     "metadata": {},
     "output_type": "execute_result"
    }
   ],
   "source": [
    "df.shape"
   ]
  },
  {
   "cell_type": "markdown",
   "metadata": {},
   "source": [
    "### Q6"
   ]
  },
  {
   "cell_type": "code",
   "execution_count": 5,
   "metadata": {},
   "outputs": [
    {
     "data": {
      "text/plain": [
       "Unnamed: 0             int64\n",
       "order_id               int64\n",
       "quantity               int64\n",
       "item_name             object\n",
       "choice_description    object\n",
       "item_price            object\n",
       "dtype: object"
      ]
     },
     "execution_count": 5,
     "metadata": {},
     "output_type": "execute_result"
    }
   ],
   "source": [
    "df.dtypes"
   ]
  },
  {
   "cell_type": "markdown",
   "metadata": {},
   "source": [
    "### Q7"
   ]
  },
  {
   "cell_type": "code",
   "execution_count": 7,
   "metadata": {},
   "outputs": [
    {
     "data": {
      "text/html": [
       "<div>\n",
       "<style scoped>\n",
       "    .dataframe tbody tr th:only-of-type {\n",
       "        vertical-align: middle;\n",
       "    }\n",
       "\n",
       "    .dataframe tbody tr th {\n",
       "        vertical-align: top;\n",
       "    }\n",
       "\n",
       "    .dataframe thead th {\n",
       "        text-align: right;\n",
       "    }\n",
       "</style>\n",
       "<table border=\"1\" class=\"dataframe\">\n",
       "  <thead>\n",
       "    <tr style=\"text-align: right;\">\n",
       "      <th></th>\n",
       "      <th>Unnamed: 0</th>\n",
       "      <th>order_id</th>\n",
       "      <th>quantity</th>\n",
       "    </tr>\n",
       "  </thead>\n",
       "  <tbody>\n",
       "    <tr>\n",
       "      <th>count</th>\n",
       "      <td>4622.000000</td>\n",
       "      <td>4622.000000</td>\n",
       "      <td>4622.000000</td>\n",
       "    </tr>\n",
       "    <tr>\n",
       "      <th>mean</th>\n",
       "      <td>2310.500000</td>\n",
       "      <td>927.254868</td>\n",
       "      <td>1.075725</td>\n",
       "    </tr>\n",
       "    <tr>\n",
       "      <th>std</th>\n",
       "      <td>1334.400802</td>\n",
       "      <td>528.890796</td>\n",
       "      <td>0.410186</td>\n",
       "    </tr>\n",
       "    <tr>\n",
       "      <th>min</th>\n",
       "      <td>0.000000</td>\n",
       "      <td>1.000000</td>\n",
       "      <td>1.000000</td>\n",
       "    </tr>\n",
       "    <tr>\n",
       "      <th>25%</th>\n",
       "      <td>1155.250000</td>\n",
       "      <td>477.250000</td>\n",
       "      <td>1.000000</td>\n",
       "    </tr>\n",
       "    <tr>\n",
       "      <th>50%</th>\n",
       "      <td>2310.500000</td>\n",
       "      <td>926.000000</td>\n",
       "      <td>1.000000</td>\n",
       "    </tr>\n",
       "    <tr>\n",
       "      <th>75%</th>\n",
       "      <td>3465.750000</td>\n",
       "      <td>1393.000000</td>\n",
       "      <td>1.000000</td>\n",
       "    </tr>\n",
       "    <tr>\n",
       "      <th>max</th>\n",
       "      <td>4621.000000</td>\n",
       "      <td>1834.000000</td>\n",
       "      <td>15.000000</td>\n",
       "    </tr>\n",
       "  </tbody>\n",
       "</table>\n",
       "</div>"
      ],
      "text/plain": [
       "        Unnamed: 0     order_id     quantity\n",
       "count  4622.000000  4622.000000  4622.000000\n",
       "mean   2310.500000   927.254868     1.075725\n",
       "std    1334.400802   528.890796     0.410186\n",
       "min       0.000000     1.000000     1.000000\n",
       "25%    1155.250000   477.250000     1.000000\n",
       "50%    2310.500000   926.000000     1.000000\n",
       "75%    3465.750000  1393.000000     1.000000\n",
       "max    4621.000000  1834.000000    15.000000"
      ]
     },
     "execution_count": 7,
     "metadata": {},
     "output_type": "execute_result"
    }
   ],
   "source": [
    "df.describe()"
   ]
  },
  {
   "cell_type": "markdown",
   "metadata": {},
   "source": [
    "### Q8"
   ]
  },
  {
   "cell_type": "code",
   "execution_count": 60,
   "metadata": {},
   "outputs": [
    {
     "data": {
      "text/html": [
       "<div>\n",
       "<style scoped>\n",
       "    .dataframe tbody tr th:only-of-type {\n",
       "        vertical-align: middle;\n",
       "    }\n",
       "\n",
       "    .dataframe tbody tr th {\n",
       "        vertical-align: top;\n",
       "    }\n",
       "\n",
       "    .dataframe thead tr th {\n",
       "        text-align: left;\n",
       "    }\n",
       "\n",
       "    .dataframe thead tr:last-of-type th {\n",
       "        text-align: right;\n",
       "    }\n",
       "</style>\n",
       "<table border=\"1\" class=\"dataframe\">\n",
       "  <thead>\n",
       "    <tr>\n",
       "      <th></th>\n",
       "      <th colspan=\"8\" halign=\"left\">Unnamed: 0</th>\n",
       "      <th colspan=\"8\" halign=\"left\">order_id</th>\n",
       "    </tr>\n",
       "    <tr>\n",
       "      <th></th>\n",
       "      <th>count</th>\n",
       "      <th>mean</th>\n",
       "      <th>std</th>\n",
       "      <th>min</th>\n",
       "      <th>25%</th>\n",
       "      <th>50%</th>\n",
       "      <th>75%</th>\n",
       "      <th>max</th>\n",
       "      <th>count</th>\n",
       "      <th>mean</th>\n",
       "      <th>std</th>\n",
       "      <th>min</th>\n",
       "      <th>25%</th>\n",
       "      <th>50%</th>\n",
       "      <th>75%</th>\n",
       "      <th>max</th>\n",
       "    </tr>\n",
       "    <tr>\n",
       "      <th>quantity</th>\n",
       "      <th></th>\n",
       "      <th></th>\n",
       "      <th></th>\n",
       "      <th></th>\n",
       "      <th></th>\n",
       "      <th></th>\n",
       "      <th></th>\n",
       "      <th></th>\n",
       "      <th></th>\n",
       "      <th></th>\n",
       "      <th></th>\n",
       "      <th></th>\n",
       "      <th></th>\n",
       "      <th></th>\n",
       "      <th></th>\n",
       "      <th></th>\n",
       "    </tr>\n",
       "  </thead>\n",
       "  <tbody>\n",
       "    <tr>\n",
       "      <th>1</th>\n",
       "      <td>4355.0</td>\n",
       "      <td>2307.323307</td>\n",
       "      <td>1335.643078</td>\n",
       "      <td>0.0</td>\n",
       "      <td>1150.50</td>\n",
       "      <td>2303.0</td>\n",
       "      <td>3459.50</td>\n",
       "      <td>4621.0</td>\n",
       "      <td>4355.0</td>\n",
       "      <td>925.988978</td>\n",
       "      <td>529.371002</td>\n",
       "      <td>1.0</td>\n",
       "      <td>475.00</td>\n",
       "      <td>925.0</td>\n",
       "      <td>1391.00</td>\n",
       "      <td>1834.0</td>\n",
       "    </tr>\n",
       "    <tr>\n",
       "      <th>2</th>\n",
       "      <td>224.0</td>\n",
       "      <td>2282.968750</td>\n",
       "      <td>1316.083469</td>\n",
       "      <td>4.0</td>\n",
       "      <td>1152.00</td>\n",
       "      <td>2306.5</td>\n",
       "      <td>3444.00</td>\n",
       "      <td>4582.0</td>\n",
       "      <td>224.0</td>\n",
       "      <td>916.330357</td>\n",
       "      <td>521.900776</td>\n",
       "      <td>2.0</td>\n",
       "      <td>475.50</td>\n",
       "      <td>923.5</td>\n",
       "      <td>1382.75</td>\n",
       "      <td>1822.0</td>\n",
       "    </tr>\n",
       "    <tr>\n",
       "      <th>3</th>\n",
       "      <td>28.0</td>\n",
       "      <td>2592.142857</td>\n",
       "      <td>1235.318334</td>\n",
       "      <td>409.0</td>\n",
       "      <td>1449.25</td>\n",
       "      <td>3030.5</td>\n",
       "      <td>3510.25</td>\n",
       "      <td>4186.0</td>\n",
       "      <td>28.0</td>\n",
       "      <td>1039.464286</td>\n",
       "      <td>489.092999</td>\n",
       "      <td>178.0</td>\n",
       "      <td>589.75</td>\n",
       "      <td>1206.5</td>\n",
       "      <td>1409.25</td>\n",
       "      <td>1671.0</td>\n",
       "    </tr>\n",
       "    <tr>\n",
       "      <th>4</th>\n",
       "      <td>10.0</td>\n",
       "      <td>2909.600000</td>\n",
       "      <td>1425.736784</td>\n",
       "      <td>1254.0</td>\n",
       "      <td>1538.75</td>\n",
       "      <td>2918.5</td>\n",
       "      <td>4360.00</td>\n",
       "      <td>4491.0</td>\n",
       "      <td>10.0</td>\n",
       "      <td>1165.200000</td>\n",
       "      <td>562.952889</td>\n",
       "      <td>511.0</td>\n",
       "      <td>622.50</td>\n",
       "      <td>1172.0</td>\n",
       "      <td>1737.50</td>\n",
       "      <td>1786.0</td>\n",
       "    </tr>\n",
       "    <tr>\n",
       "      <th>5</th>\n",
       "      <td>1.0</td>\n",
       "      <td>2441.000000</td>\n",
       "      <td>NaN</td>\n",
       "      <td>2441.0</td>\n",
       "      <td>2441.00</td>\n",
       "      <td>2441.0</td>\n",
       "      <td>2441.00</td>\n",
       "      <td>2441.0</td>\n",
       "      <td>1.0</td>\n",
       "      <td>970.000000</td>\n",
       "      <td>NaN</td>\n",
       "      <td>970.0</td>\n",
       "      <td>970.00</td>\n",
       "      <td>970.0</td>\n",
       "      <td>970.00</td>\n",
       "      <td>970.0</td>\n",
       "    </tr>\n",
       "    <tr>\n",
       "      <th>7</th>\n",
       "      <td>1.0</td>\n",
       "      <td>3599.000000</td>\n",
       "      <td>NaN</td>\n",
       "      <td>3599.0</td>\n",
       "      <td>3599.00</td>\n",
       "      <td>3599.0</td>\n",
       "      <td>3599.00</td>\n",
       "      <td>3599.0</td>\n",
       "      <td>1.0</td>\n",
       "      <td>1443.000000</td>\n",
       "      <td>NaN</td>\n",
       "      <td>1443.0</td>\n",
       "      <td>1443.00</td>\n",
       "      <td>1443.0</td>\n",
       "      <td>1443.00</td>\n",
       "      <td>1443.0</td>\n",
       "    </tr>\n",
       "    <tr>\n",
       "      <th>8</th>\n",
       "      <td>1.0</td>\n",
       "      <td>3887.000000</td>\n",
       "      <td>NaN</td>\n",
       "      <td>3887.0</td>\n",
       "      <td>3887.00</td>\n",
       "      <td>3887.0</td>\n",
       "      <td>3887.00</td>\n",
       "      <td>3887.0</td>\n",
       "      <td>1.0</td>\n",
       "      <td>1559.000000</td>\n",
       "      <td>NaN</td>\n",
       "      <td>1559.0</td>\n",
       "      <td>1559.00</td>\n",
       "      <td>1559.0</td>\n",
       "      <td>1559.00</td>\n",
       "      <td>1559.0</td>\n",
       "    </tr>\n",
       "    <tr>\n",
       "      <th>10</th>\n",
       "      <td>1.0</td>\n",
       "      <td>4152.000000</td>\n",
       "      <td>NaN</td>\n",
       "      <td>4152.0</td>\n",
       "      <td>4152.00</td>\n",
       "      <td>4152.0</td>\n",
       "      <td>4152.00</td>\n",
       "      <td>4152.0</td>\n",
       "      <td>1.0</td>\n",
       "      <td>1660.000000</td>\n",
       "      <td>NaN</td>\n",
       "      <td>1660.0</td>\n",
       "      <td>1660.00</td>\n",
       "      <td>1660.0</td>\n",
       "      <td>1660.00</td>\n",
       "      <td>1660.0</td>\n",
       "    </tr>\n",
       "    <tr>\n",
       "      <th>15</th>\n",
       "      <td>1.0</td>\n",
       "      <td>3598.000000</td>\n",
       "      <td>NaN</td>\n",
       "      <td>3598.0</td>\n",
       "      <td>3598.00</td>\n",
       "      <td>3598.0</td>\n",
       "      <td>3598.00</td>\n",
       "      <td>3598.0</td>\n",
       "      <td>1.0</td>\n",
       "      <td>1443.000000</td>\n",
       "      <td>NaN</td>\n",
       "      <td>1443.0</td>\n",
       "      <td>1443.00</td>\n",
       "      <td>1443.0</td>\n",
       "      <td>1443.00</td>\n",
       "      <td>1443.0</td>\n",
       "    </tr>\n",
       "  </tbody>\n",
       "</table>\n",
       "</div>"
      ],
      "text/plain": [
       "         Unnamed: 0                                                     \\\n",
       "              count         mean          std     min      25%     50%   \n",
       "quantity                                                                 \n",
       "1            4355.0  2307.323307  1335.643078     0.0  1150.50  2303.0   \n",
       "2             224.0  2282.968750  1316.083469     4.0  1152.00  2306.5   \n",
       "3              28.0  2592.142857  1235.318334   409.0  1449.25  3030.5   \n",
       "4              10.0  2909.600000  1425.736784  1254.0  1538.75  2918.5   \n",
       "5               1.0  2441.000000          NaN  2441.0  2441.00  2441.0   \n",
       "7               1.0  3599.000000          NaN  3599.0  3599.00  3599.0   \n",
       "8               1.0  3887.000000          NaN  3887.0  3887.00  3887.0   \n",
       "10              1.0  4152.000000          NaN  4152.0  4152.00  4152.0   \n",
       "15              1.0  3598.000000          NaN  3598.0  3598.00  3598.0   \n",
       "\n",
       "                          order_id                                            \\\n",
       "              75%     max    count         mean         std     min      25%   \n",
       "quantity                                                                       \n",
       "1         3459.50  4621.0   4355.0   925.988978  529.371002     1.0   475.00   \n",
       "2         3444.00  4582.0    224.0   916.330357  521.900776     2.0   475.50   \n",
       "3         3510.25  4186.0     28.0  1039.464286  489.092999   178.0   589.75   \n",
       "4         4360.00  4491.0     10.0  1165.200000  562.952889   511.0   622.50   \n",
       "5         2441.00  2441.0      1.0   970.000000         NaN   970.0   970.00   \n",
       "7         3599.00  3599.0      1.0  1443.000000         NaN  1443.0  1443.00   \n",
       "8         3887.00  3887.0      1.0  1559.000000         NaN  1559.0  1559.00   \n",
       "10        4152.00  4152.0      1.0  1660.000000         NaN  1660.0  1660.00   \n",
       "15        3598.00  3598.0      1.0  1443.000000         NaN  1443.0  1443.00   \n",
       "\n",
       "                                   \n",
       "             50%      75%     max  \n",
       "quantity                           \n",
       "1          925.0  1391.00  1834.0  \n",
       "2          923.5  1382.75  1822.0  \n",
       "3         1206.5  1409.25  1671.0  \n",
       "4         1172.0  1737.50  1786.0  \n",
       "5          970.0   970.00   970.0  \n",
       "7         1443.0  1443.00  1443.0  \n",
       "8         1559.0  1559.00  1559.0  \n",
       "10        1660.0  1660.00  1660.0  \n",
       "15        1443.0  1443.00  1443.0  "
      ]
     },
     "execution_count": 60,
     "metadata": {},
     "output_type": "execute_result"
    }
   ],
   "source": [
    "df.groupby('quantity').describe()\n"
   ]
  },
  {
   "cell_type": "markdown",
   "metadata": {},
   "source": [
    "### Q9"
   ]
  },
  {
   "cell_type": "code",
   "execution_count": 42,
   "metadata": {},
   "outputs": [
    {
     "name": "stdout",
     "output_type": "stream",
     "text": [
      "nombre d'items commandés : 4972\n"
     ]
    }
   ],
   "source": [
    "print('nombre d\\'items commandés :',df['quantity'].sum())\n"
   ]
  },
  {
   "cell_type": "markdown",
   "metadata": {},
   "source": [
    "### Q10"
   ]
  },
  {
   "cell_type": "code",
   "execution_count": 64,
   "metadata": {},
   "outputs": [],
   "source": [
    "df['item_price']= df['item_price'].str.replace('$','').astype('float')"
   ]
  },
  {
   "cell_type": "code",
   "execution_count": 69,
   "metadata": {},
   "outputs": [
    {
     "name": "stdout",
     "output_type": "stream",
     "text": [
      "38998.020000000004\n"
     ]
    }
   ],
   "source": [
    "total = df['item_price'] * df['quantity']\n",
    "\n",
    "print(total.sum())\n"
   ]
  },
  {
   "cell_type": "markdown",
   "metadata": {},
   "source": [
    "Q11\n",
    "\n"
   ]
  },
  {
   "cell_type": "code",
   "execution_count": 28,
   "metadata": {},
   "outputs": [
    {
     "data": {
      "text/plain": [
       "Unnamed: 0    2310.500000\n",
       "order_id       927.254868\n",
       "quantity         1.075725\n",
       "dtype: float64"
      ]
     },
     "execution_count": 28,
     "metadata": {},
     "output_type": "execute_result"
    }
   ],
   "source": [
    "df.mean()"
   ]
  },
  {
   "cell_type": "code",
   "execution_count": null,
   "metadata": {},
   "outputs": [],
   "source": []
  }
 ],
 "metadata": {
  "kernelspec": {
   "display_name": "Python 3",
   "language": "python",
   "name": "python3"
  },
  "language_info": {
   "codemirror_mode": {
    "name": "ipython",
    "version": 3
   },
   "file_extension": ".py",
   "mimetype": "text/x-python",
   "name": "python",
   "nbconvert_exporter": "python",
   "pygments_lexer": "ipython3",
   "version": "3.8.5"
  }
 },
 "nbformat": 4,
 "nbformat_minor": 4
}
