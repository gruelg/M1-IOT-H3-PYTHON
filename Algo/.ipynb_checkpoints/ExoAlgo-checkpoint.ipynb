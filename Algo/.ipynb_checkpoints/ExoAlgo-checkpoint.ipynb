{
 "cells": [
  {
   "cell_type": "markdown",
   "metadata": {},
   "source": [
    "## Partie 1"
   ]
  },
  {
   "cell_type": "markdown",
   "metadata": {},
   "source": [
    "### Exercice 1 \n",
    "\n",
    "\n",
    "\n",
    "\n",
    "\n",
    "\n",
    "\n",
    "\n",
    "\n"
   ]
  },
  {
   "cell_type": "code",
   "execution_count": 1,
   "metadata": {},
   "outputs": [
    {
     "name": "stdout",
     "output_type": "stream",
     "text": [
      "a =  6 b = 5 c = 5\n"
     ]
    }
   ],
   "source": [
    "\n",
    "\n",
    "a = 5\n",
    "b = 6 \n",
    "c = a\n",
    "a = b \n",
    "b = c \n",
    "print(\"a = \", a, \"b =\", b, \"c =\", c)"
   ]
  },
  {
   "cell_type": "markdown",
   "metadata": {},
   "source": [
    "### Exercice 2"
   ]
  },
  {
   "cell_type": "code",
   "execution_count": null,
   "metadata": {},
   "outputs": [],
   "source": [
    "nbInput = input(\"Saisir un nombre\")\n",
    "nbInput = int(nbInput)\n",
    "carre = nbInput * nbInput \n",
    "print(\"le carre de {} est {}\".format(nbInput, carre))"
   ]
  },
  {
   "cell_type": "markdown",
   "metadata": {},
   "source": [
    "### Exercice 3\n"
   ]
  },
  {
   "cell_type": "code",
   "execution_count": null,
   "metadata": {},
   "outputs": [],
   "source": [
    "nbInput = input(\"saisir un nombre \")\n",
    "nbInput = int(nbInput)\n",
    "if nbInput < 0 : \n",
    "    print(\"nombre saisie negatif\")\n",
    "else: \n",
    "    print(\"nombre saisi positif\")"
   ]
  },
  {
   "cell_type": "markdown",
   "metadata": {},
   "source": [
    "### Exercice 4"
   ]
  },
  {
   "cell_type": "code",
   "execution_count": null,
   "metadata": {},
   "outputs": [],
   "source": [
    "nbInputPremier = input(\"saisir un nombre \")\n",
    "nbInputPremier = int(nbInputPremier)\n",
    "nbInputDeux = input(\"saisir un autre nombre \")\n",
    "nbInputDeux = int(nbInputDeux)\n",
    "if (nbInputDeux + nbInputPremier) > 0:\n",
    "    print(\"somme des 2 postifs\")\n",
    "else:\n",
    "    print(\"somme des 2 negatif\")\n",
    "\n",
    "\n"
   ]
  },
  {
   "cell_type": "markdown",
   "metadata": {},
   "source": [
    "### Exercice 5"
   ]
  },
  {
   "cell_type": "code",
   "execution_count": null,
   "metadata": {},
   "outputs": [],
   "source": [
    "nbInput = input(\"saisir un nombre \")\n",
    "nbInput = int(nbInput)\n",
    "for i in range(0,10,1) :\n",
    "    nbInput += 1 \n",
    "    print(nbInput)"
   ]
  },
  {
   "cell_type": "markdown",
   "metadata": {},
   "source": [
    "### Exercice 6\n"
   ]
  },
  {
   "cell_type": "code",
   "execution_count": 39,
   "metadata": {},
   "outputs": [
    {
     "name": "stdout",
     "output_type": "stream",
     "text": [
      "Saisir un nombre de depart5\n",
      "somme :  1\n",
      "somme :  3\n",
      "somme :  6\n",
      "somme :  10\n",
      "somme :  15\n",
      "15\n"
     ]
    }
   ],
   "source": [
    "nbDepart = int(input(\"Saisir un nombre de depart\"))\n",
    "i = 0 \n",
    "somme = 0 \n",
    "while i < nbDepart :\n",
    "    i +=1\n",
    "    somme = somme + i    \n",
    "print(somme)\n",
    "    \n",
    "    "
   ]
  },
  {
   "cell_type": "markdown",
   "metadata": {},
   "source": [
    "## Partie 2"
   ]
  },
  {
   "cell_type": "markdown",
   "metadata": {},
   "source": [
    "### Exercice 1"
   ]
  },
  {
   "cell_type": "code",
   "execution_count": 20,
   "metadata": {},
   "outputs": [
    {
     "name": "stdout",
     "output_type": "stream",
     "text": [
      "1\n",
      "3\n",
      "6\n",
      "10\n",
      "15\n"
     ]
    }
   ],
   "source": [
    "listInt = [1, 2, 3, 4, 5]\n",
    "somme = 0\n",
    "for indice, integer in enumerate(listInt):\n",
    "    somme += integer\n",
    "    print(somme)"
   ]
  },
  {
   "cell_type": "markdown",
   "metadata": {},
   "source": [
    "### Exercice 2"
   ]
  },
  {
   "cell_type": "code",
   "execution_count": 21,
   "metadata": {},
   "outputs": [
    {
     "name": "stdout",
     "output_type": "stream",
     "text": [
      "10\n",
      "10\n",
      "10\n",
      "10\n",
      "10\n"
     ]
    }
   ],
   "source": [
    "listInt = [1, 2, 3, 4, 5]\n",
    "listInt2 = [9, 8, 7, 6, 5]\n",
    "somme = 0\n",
    "for indice, integer in enumerate(listInt):\n",
    "    somme = integer + listInt2[indice]\n",
    "    print(somme)\n",
    "    "
   ]
  },
  {
   "cell_type": "markdown",
   "metadata": {},
   "source": [
    "### Exercice 3"
   ]
  },
  {
   "cell_type": "code",
   "execution_count": 24,
   "metadata": {
    "scrolled": true
   },
   "outputs": [
    {
     "name": "stdout",
     "output_type": "stream",
     "text": [
      "[9, 16, 21, 24, 25]\n",
      "9\n",
      "25\n",
      "46\n",
      "70\n",
      "95\n"
     ]
    }
   ],
   "source": [
    "listInt = [1, 2, 3, 4, 5]\n",
    "listInt2 = [9, 8, 7, 6, 5]\n",
    "somme = 0\n",
    "for indice, integer in enumerate(listInt):\n",
    "    listInt[indice] = listInt[indice] * listInt2[indice]\n",
    "print(listInt)\n",
    "for indice, integer in enumerate(listInt):\n",
    "    somme += integer \n",
    "    print(somme)\n",
    "    "
   ]
  },
  {
   "cell_type": "code",
   "execution_count": 40,
   "metadata": {},
   "outputs": [],
   "source": [
    "def factProduct(tab1 : list, tab2 : list) -> float :\n",
    "    somme = 0\n",
    "    for indice, integer in enumerate(listInt):\n",
    "        somme += integer * tab2[indice]\n",
    "        print(somme)\n",
    "    return somme\n",
    "\n",
    "\n",
    "\n",
    "    \n"
   ]
  },
  {
   "cell_type": "code",
   "execution_count": 41,
   "metadata": {},
   "outputs": [
    {
     "name": "stdout",
     "output_type": "stream",
     "text": [
      "9\n",
      "25\n",
      "46\n",
      "70\n",
      "95\n"
     ]
    }
   ],
   "source": [
    "listInt = [1, 2, 3, 4, 5]\n",
    "listInt2 = [9, 8, 7, 6, 5]\n",
    "somme = factProduct(listInt, listInt2)\n"
   ]
  },
  {
   "cell_type": "markdown",
   "metadata": {},
   "source": [
    "### Exercice 4\n",
    "Ecrire un algorithme permettant `a l’utilisateur de saisir un nombre determine de valeurs.  Le programme,  une fois la saisie termin ́ee,  renvoie la plus grandevaleur en pr ́ecisant quelle position elle occupe dans le tableau."
   ]
  },
  {
   "cell_type": "code",
   "execution_count": 5,
   "metadata": {},
   "outputs": [
    {
     "name": "stdout",
     "output_type": "stream",
     "text": [
      "determiner le nombre de valeurs a saisir : 8\n",
      "veuillez saisir le nombre 180\n",
      "veuillez saisir le nombre 21\n",
      "veuillez saisir le nombre 330\n",
      "veuillez saisir le nombre 445\n",
      "veuillez saisir le nombre 533\n",
      "veuillez saisir le nombre 655\n",
      "veuillez saisir le nombre 765\n",
      "veuillez saisir le nombre 845\n",
      "nombre le plus grand : 80 indice : 1 \n"
     ]
    }
   ],
   "source": [
    "listNombre = list()\n",
    "nbNombre = int(input(\"determiner le nombre de valeurs a saisir : \"))\n",
    "\n",
    "i= 0 \n",
    "while i < nbNombre:\n",
    "    nbSaisie = input(\"veuillez saisir le nombre {} :\".format(i+1))\n",
    "    nbSaisie =  int(nbSaisie)\n",
    "    listNombre.append(nbSaisie)\n",
    "    i = i+1\n",
    "    \n",
    "maxi = 0\n",
    "indiceMax = 0 \n",
    "for indice, element in enumerate(listNombre):\n",
    "    if maxi < element: \n",
    "        maxi = element\n",
    "        indiceMax = indice\n",
    "print(\"nombre le plus grand : {} indice : {} \".format(maxi, indiceMax+1))\n",
    "    \n"
   ]
  },
  {
   "cell_type": "code",
   "execution_count": 31,
   "metadata": {},
   "outputs": [],
   "source": [
    "def makeTab(lengthTab) -> list :\n",
    "    i= 0 \n",
    "    listNombre = list()\n",
    "    while i < lengthTab:\n",
    "        nbSaisie = int(input(\"veuillez saisir le nombre {} :\".format(i+1)))\n",
    "        listNombre.append(nbSaisie)\n",
    "        i += 1\n",
    "    return listNombre"
   ]
  },
  {
   "cell_type": "code",
   "execution_count": 32,
   "metadata": {},
   "outputs": [],
   "source": [
    "def lePlusGrand(tabATrier : list):\n",
    "    maxi = 0\n",
    "    indiceMax = 0 \n",
    "    for indice, element in enumerate(tabATrier):\n",
    "        if maxi < element: \n",
    "            maxi = element\n",
    "            indiceMax = indice\n",
    "    print(\"nombre le plus grand : {} indice : {} \".format(maxi, indiceMax+1))"
   ]
  },
  {
   "cell_type": "code",
   "execution_count": 34,
   "metadata": {},
   "outputs": [
    {
     "name": "stdout",
     "output_type": "stream",
     "text": [
      "determiner le nombre de valeurs a saisir : 3\n",
      "veuillez saisir le nombre 1 :5\n",
      "veuillez saisir le nombre 2 :30\n",
      "veuillez saisir le nombre 3 :25\n",
      "nombre le plus grand : 30 indice : 2 \n"
     ]
    }
   ],
   "source": [
    "nbNombre = int(input(\"determiner le nombre de valeurs a saisir :  \"))\n",
    "listNombre = makeTab(nbNombre)\n",
    "lePlusGrand(listNombre)"
   ]
  },
  {
   "cell_type": "markdown",
   "metadata": {},
   "source": [
    "## Partie3"
   ]
  },
  {
   "cell_type": "markdown",
   "metadata": {},
   "source": [
    "### Exercice 1"
   ]
  },
  {
   "cell_type": "code",
   "execution_count": null,
   "metadata": {},
   "outputs": [],
   "source": []
  },
  {
   "cell_type": "markdown",
   "metadata": {},
   "source": [
    "### Exercice 2"
   ]
  },
  {
   "cell_type": "code",
   "execution_count": 46,
   "metadata": {},
   "outputs": [
    {
     "name": "stdout",
     "output_type": "stream",
     "text": [
      "['x= 1 y=0', 'x= 3 y=2', 'x= 17 y=12', 'x= 99 y=70']\n"
     ]
    }
   ],
   "source": [
    "x,y = 0, 0 \n",
    "listSolution = list()\n",
    "for y in range(0, 100, 1):\n",
    "    for x in range(0, 100, 1):\n",
    "        if( ((x*x)-(2*(y*y))) == 1):\n",
    "            listSolution.append((\"x= \"+str(x)+\" y=\"+str(y)))\n",
    "        \n",
    "print(listSolution)"
   ]
  },
  {
   "cell_type": "markdown",
   "metadata": {},
   "source": [
    "### Exercice 3\n"
   ]
  },
  {
   "cell_type": "code",
   "execution_count": 68,
   "metadata": {},
   "outputs": [],
   "source": [
    "from math import *\n",
    "\n",
    "def calculDelta(varEquation : dict) -> int :\n",
    "    delta = ((varEquation[\"b\"]*varEquation[\"b\"]) - (4 * varEquation[\"a\"] * varEquation[\"c\"]))\n",
    "    return delta"
   ]
  },
  {
   "cell_type": "code",
   "execution_count": 69,
   "metadata": {},
   "outputs": [],
   "source": [
    "def signeDelta(delta : int,varEquation : dict) :\n",
    "    if delta > 0 :\n",
    "        racines(delta, varEquation)\n",
    "    else: \n",
    "        print(\"Aucune racines dans R\")"
   ]
  },
  {
   "cell_type": "code",
   "execution_count": 99,
   "metadata": {},
   "outputs": [],
   "source": [
    "def racines(delta : int, varEquation : dict) : \n",
    "    x1 = ((varEquation[\"b\"]*-1)- sqrt(delta))/  (2* varEquation[\"a\"])\n",
    "    x2 = ((varEquation[\"b\"]*-1)+ sqrt(delta))/  (2* varEquation[\"a\"])\n",
    "    print(\"x1 = \", x1)\n",
    "    print(\"x2 = \",x2)"
   ]
  },
  {
   "cell_type": "code",
   "execution_count": 100,
   "metadata": {},
   "outputs": [
    {
     "name": "stdout",
     "output_type": "stream",
     "text": [
      "Saisir valeur de a  : 2\n",
      "Saisir valeur de b  : 9\n",
      "Saisir valeur de c  : 3\n",
      "57\n",
      "7.54983443527075\n",
      "x1 =  -4.1374586088176875\n",
      "x2 =  -0.36254139118231254\n"
     ]
    }
   ],
   "source": [
    "from math import *\n",
    "varEquation = {}\n",
    "varEquation[\"a\"] = int(input(\"Saisir valeur de a  : \"))\n",
    "varEquation[\"b\"] = int(input(\"Saisir valeur de b  : \"))\n",
    "varEquation[\"c\"] = int(input(\"Saisir valeur de c  : \"))\n",
    "delta = calculDelta(varEquation)\n",
    "print(delta)\n",
    "print(sqrt(delta))\n",
    "signeDelta(delta, varEquation)\n",
    "\n"
   ]
  },
  {
   "cell_type": "markdown",
   "metadata": {},
   "source": [
    "### Exercice 4\n"
   ]
  },
  {
   "cell_type": "markdown",
   "metadata": {},
   "source": [
    "### Exercice 5\n"
   ]
  },
  {
   "cell_type": "code",
   "execution_count": 113,
   "metadata": {},
   "outputs": [
    {
     "name": "stdout",
     "output_type": "stream",
     "text": [
      "Saisir un nombre9\n",
      "n=  1   n!=  1\n",
      "n=  2   n!=  2\n",
      "n=  3   n!=  6\n",
      "n=  4   n!=  24\n",
      "n=  5   n!=  120\n",
      "n=  6   n!=  720\n",
      "n=  7   n!=  5040\n",
      "n=  8   n!=  40320\n",
      "n=  9   n!=  362880\n"
     ]
    }
   ],
   "source": [
    "nbDebart = int(input(\"Saisir un nombre\"))\n",
    "i = 0 \n",
    "factorielle = 1\n",
    "while i < nbDebart : \n",
    "    i += 1 \n",
    "    factorielle *=  i \n",
    "    print(\"n=\", i, \"  n!=\",factorielle)\n",
    "    \n",
    "\n"
   ]
  },
  {
   "cell_type": "markdown",
   "metadata": {},
   "source": [
    "### Mulitplication matrice  "
   ]
  },
  {
   "cell_type": "code",
   "execution_count": 11,
   "metadata": {},
   "outputs": [
    {
     "name": "stdout",
     "output_type": "stream",
     "text": [
      "[1, 2, 1]\n",
      "[2, 1, 2]\n",
      "[1, 0, 1]\n"
     ]
    }
   ],
   "source": [
    "matriceA = [[1,2,1],[2,1,2],[1,0,1]]\n",
    "matriceB = [[0,0,1],[0,1,0],[1,0,0]]\n",
    "matriceC = list()\n",
    "\n",
    "i = y = k = 0\n",
    "for i in range(0, len(matriceA), 1):\n",
    "    ligne = list()\n",
    "    for y in range(0, len(matriceA[i]), 1):\n",
    "        somme = 0\n",
    "        for k in range(0, len(matriceA[i]), 1):\n",
    "                somme += matriceA[i][k] * matriceB[k][y]\n",
    "        ligne.append(somme)  \n",
    "        y += 1\n",
    "    matriceC.append(ligne)\n",
    "    \n",
    "    i += 1\n",
    "for i in range(0, 3, 1):\n",
    "    print(matriceC[i])"
   ]
  },
  {
   "cell_type": "code",
   "execution_count": 2,
   "metadata": {},
   "outputs": [
    {
     "name": "stdout",
     "output_type": "stream",
     "text": [
      "3\n"
     ]
    }
   ],
   "source": [
    "matriceA = [[1,2,1],[2,1,2],[1,0,1]]\n",
    "print(len(matriceA[1]))"
   ]
  },
  {
   "cell_type": "code",
   "execution_count": null,
   "metadata": {},
   "outputs": [],
   "source": []
  }
 ],
 "metadata": {
  "kernelspec": {
   "display_name": "Python 3",
   "language": "python",
   "name": "python3"
  },
  "language_info": {
   "codemirror_mode": {
    "name": "ipython",
    "version": 3
   },
   "file_extension": ".py",
   "mimetype": "text/x-python",
   "name": "python",
   "nbconvert_exporter": "python",
   "pygments_lexer": "ipython3",
   "version": "3.8.5"
  }
 },
 "nbformat": 4,
 "nbformat_minor": 4
}
