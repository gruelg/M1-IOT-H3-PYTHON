{
 "cells": [
  {
   "cell_type": "markdown",
   "metadata": {},
   "source": [
    "# Exercice 1 : Tracage de fonction et détermination analytique de points critiques"
   ]
  },
  {
   "cell_type": "markdown",
   "metadata": {},
   "source": [
    "Déterminer analytiquement les coordonnées et la nature des points critiques des fonctions suivantes :\n",
    "\n",
    "    $f_1(x,y) = x^3 + y^3 -3x -12y$\n",
    "    $f_2(x,y) = x^3 -12xy + 8y^3$\n",
    "    $f_3(x,y) = {(x-1)}^2 + 10 {(x^2-y)}^2$\n",
    "\n",
    "Vocabulaire : _Une détermination \"analytique\" signifie que le calcul est fait \"à la main\", sans utilisation d'outil numérique ou de calcul formel."
   ]
  },
  {
   "cell_type": "code",
   "execution_count": 1,
   "metadata": {},
   "outputs": [],
   "source": [
    "import numpy as np\n",
    "import math \n",
    "import matplotlib.pyplot as plt"
   ]
  },
  {
   "cell_type": "markdown",
   "metadata": {},
   "source": [
    "#### F1 = x^3 + y^3 -3x -12y"
   ]
  },
  {
   "cell_type": "code",
   "execution_count": 24,
   "metadata": {},
   "outputs": [],
   "source": [
    "def f1(x,y):\n",
    "    x0 = 3*pow(x,2)-3\n",
    "    y0 = 3*pow(y,2)-12\n",
    "    print(\"valeurs critiques ({},{})\".format(x0, y0))"
   ]
  },
  {
   "cell_type": "code",
   "execution_count": 28,
   "metadata": {},
   "outputs": [
    {
     "name": "stdout",
     "output_type": "stream",
     "text": [
      "valeurs critiques (0,0)\n"
     ]
    }
   ],
   "source": [
    "f1(1,2)"
   ]
  },
  {
   "cell_type": "code",
   "execution_count": 29,
   "metadata": {},
   "outputs": [
    {
     "name": "stdout",
     "output_type": "stream",
     "text": [
      "valeurs critiques (0,0)\n"
     ]
    }
   ],
   "source": [
    "f1(-1,-2)"
   ]
  },
  {
   "cell_type": "markdown",
   "metadata": {},
   "source": [
    "#### F2"
   ]
  },
  {
   "cell_type": "code",
   "execution_count": 31,
   "metadata": {},
   "outputs": [],
   "source": [
    "def f2(x,y):\n",
    "    x0 = 3*pow(x,2)-12*y\n",
    "    y0 = -12*x + 24*pow(y,2)\n",
    "    print(\"valeurs critiques ({},{})\".format(x0, y0))"
   ]
  },
  {
   "cell_type": "code",
   "execution_count": 32,
   "metadata": {},
   "outputs": [
    {
     "name": "stdout",
     "output_type": "stream",
     "text": [
      "valeurs critiques (0,0)\n"
     ]
    }
   ],
   "source": [
    "f2(2,1)"
   ]
  },
  {
   "cell_type": "raw",
   "metadata": {},
   "source": [
    "df/dx = 3x² - 12y\n",
    "df/dx = -12x +24y²\n",
    "//valeur de y\n",
    "13x²-12y=0 <=> 3x² = 12y <=> y= 3x²/12\n",
    "//plus de y\n",
    "-12x +24(3x²/12)² = 0 \n",
    "-12x + (24/16)x^4=0\n",
    "-12x+(3/2)x^3 =0\n",
    "(3/2)x^3 = 12\n",
    "x^3= 24/3 = 8 \n",
    "x^3 = 3sqrt(8)\n",
    "x=2\n",
    "y= 3x²/12\n",
    "y =(3*4)/12 = 1 \n",
    "//valeur critique\n",
    "(x0,y0) = (2,1)"
   ]
  },
  {
   "cell_type": "markdown",
   "metadata": {},
   "source": [
    "#### F3 = {(x-1)}² + 10{(x²-y)}²"
   ]
  },
  {
   "cell_type": "code",
   "execution_count": 22,
   "metadata": {},
   "outputs": [],
   "source": [
    "def f3(x,y):\n",
    "    x0 = (40*pow(x,3))-(40*x*y)+(2*x)-2\n",
    "    y0 = (-20*(pow(x,2)))+(20*y)\n",
    "    print(\"valeurs critiques ({},{})\".format(x0, y0))\n",
    "    XH= [[(120*pow(x,2)-40*y+2), -40*x],[-40*x, 20]]\n",
    "    print(\"Det {}\".format(XH))\n",
    "    "
   ]
  },
  {
   "cell_type": "code",
   "execution_count": 23,
   "metadata": {},
   "outputs": [
    {
     "name": "stdout",
     "output_type": "stream",
     "text": [
      "valeurs critiques (0,0)\n",
      "Det [[82, -40], [-40, 20]]\n"
     ]
    }
   ],
   "source": [
    "f3(1,1)"
   ]
  },
  {
   "cell_type": "code",
   "execution_count": null,
   "metadata": {},
   "outputs": [],
   "source": []
  },
  {
   "cell_type": "code",
   "execution_count": null,
   "metadata": {},
   "outputs": [],
   "source": []
  }
 ],
 "metadata": {
  "kernelspec": {
   "display_name": "Python 3",
   "language": "python",
   "name": "python3"
  },
  "language_info": {
   "codemirror_mode": {
    "name": "ipython",
    "version": 3
   },
   "file_extension": ".py",
   "mimetype": "text/x-python",
   "name": "python",
   "nbconvert_exporter": "python",
   "pygments_lexer": "ipython3",
   "version": "3.8.5"
  }
 },
 "nbformat": 4,
 "nbformat_minor": 4
}
